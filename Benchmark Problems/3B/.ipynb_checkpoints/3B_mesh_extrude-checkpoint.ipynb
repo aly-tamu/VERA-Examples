{
 "cells": [
  {
   "cell_type": "code",
   "execution_count": 47,
   "metadata": {
    "vscode": {
     "languageId": "plaintext"
    }
   },
   "outputs": [],
   "source": [
    "import os\n",
    "import sys\n",
    "\n",
    "sys.path.append(\"../..\")\n",
    "\n",
    "from pyopensn.mesh import FromFileMeshGenerator, ExtruderMeshGenerator, PETScGraphPartitioner\n",
    "from pyopensn.context import UseColor, Finalize\n",
    "\n",
    "UseColor(False)"
   ]
  },
  {
   "cell_type": "code",
   "execution_count": 48,
   "metadata": {
    "vscode": {
     "languageId": "plaintext"
    }
   },
   "outputs": [
    {
     "name": "stdout",
     "output_type": "stream",
     "text": [
      "[0]  FromFileMeshGenerator: Generating UnpartitionedMesh\n",
      "[0]  Making Unpartitioned mesh from wavefront file ../2A/lattice_2A.obj\n",
      "[0]  Max material id: 10\n",
      "[0]  Done checking cell-center-to-face orientations\n",
      "[0]  02:33:59.9 Establishing cell connectivity.\n",
      "[0]  02:33:59.9 Vertex cell subscriptions complete.\n",
      "[0]  02:33:59.9 Surpassing cell 972 of 9720 (10%)\n",
      "[0]  02:33:59.9 Surpassing cell 1944 of 9720 (20%)\n",
      "[0]  02:33:59.9 Surpassing cell 2917 of 9720 (30%)\n",
      "[0]  02:33:59.9 Surpassing cell 3888 of 9720 (40%)\n",
      "[0]  02:33:59.9 Surpassing cell 4860 of 9720 (50%)\n",
      "[0]  02:33:59.9 Surpassing cell 5833 of 9720 (60%)\n",
      "[0]  02:33:59.9 Surpassing cell 6805 of 9720 (70%)\n",
      "[0]  02:33:59.9 Surpassing cell 7776 of 9720 (80%)\n",
      "[0]  02:33:59.9 Surpassing cell 8748 of 9720 (90%)\n",
      "[0]  02:33:59.9 Surpassing cell 9720 of 9720 (100%)\n",
      "[0]  02:33:59.9 Establishing cell boundary connectivity.\n",
      "[0]  02:33:59.9 Done establishing cell connectivity.\n",
      "[0]  Done checking cell-center-to-face orientations\n",
      "[0]  02:34:01.5 Establishing cell connectivity.\n",
      "[0]  02:34:02.5 Vertex cell subscriptions complete.\n",
      "[0]  02:34:02.6 Surpassing cell 174960 of 1749600 (10%)\n",
      "[0]  02:34:02.6 Surpassing cell 349920 of 1749600 (20%)\n",
      "[0]  02:34:02.6 Surpassing cell 524881 of 1749600 (30%)\n",
      "[0]  02:34:02.6 Surpassing cell 699840 of 1749600 (40%)\n",
      "[0]  02:34:02.7 Surpassing cell 874800 of 1749600 (50%)\n",
      "[0]  02:34:02.7 Surpassing cell 1049761 of 1749600 (60%)\n",
      "[0]  02:34:02.7 Surpassing cell 1224721 of 1749600 (70%)\n",
      "[0]  02:34:02.7 Surpassing cell 1399680 of 1749600 (80%)\n",
      "[0]  02:34:02.8 Surpassing cell 1574640 of 1749600 (90%)\n",
      "[0]  02:34:02.8 Surpassing cell 1749600 of 1749600 (100%)\n",
      "[0]  02:34:02.8 Establishing cell boundary connectivity.\n",
      "[0]  02:34:02.9 Done establishing cell connectivity.\n",
      "[0]  Number of cells per partition (max,min,avg) = 1749600,1749600,1749600\n",
      "[0]  \n",
      "[0]  Mesh statistics:\n",
      "[0]    Global cell count             : 1749600\n",
      "[0]    Local cell count (avg,max,min): 1749600,1749600,1749600\n",
      "[0]    Ghost-to-local ratio (avg)    : 0\n",
      "[0]  \n",
      "[0]  Exporting mesh to VTK files with base extruded_mesh_3A\n",
      "[0]  Done exporting mesh to VTK.\n"
     ]
    }
   ],
   "source": [
    "end_h = 3.866#cm 1.933\n",
    "spacer_h=3.810#cm 1.905 \n",
    "fuel_h = 48.39#cm\n",
    "meshgen = ExtruderMeshGenerator(\n",
    "    inputs=[FromFileMeshGenerator(\n",
    "            filename=\"../2Q/lattice_2Q.obj\",\n",
    "        )],\n",
    "    layers=[{\"h\": end_h, \"n\": 5},\n",
    "            {\"h\": 57.518, \"n\": 20},\n",
    "            {\"h\": spacer_h, \"n\": 5},\n",
    "            {\"h\": fuel_h, \"n\": 20},\n",
    "            {\"h\": spacer_h, \"n\": 5},\n",
    "            {\"h\": fuel_h, \"n\": 20},\n",
    "            {\"h\": spacer_h, \"n\": 5},\n",
    "            {\"h\": fuel_h, \"n\": 20},\n",
    "            {\"h\": spacer_h, \"n\": 5},\n",
    "            {\"h\": fuel_h, \"n\": 20},\n",
    "            {\"h\": spacer_h, \"n\": 5},\n",
    "            {\"h\": fuel_h, \"n\": 20},\n",
    "            {\"h\": spacer_h, \"n\": 5},\n",
    "            {\"h\": 39.606, \"n\": 10},\n",
    "            {\"h\": 8.556, \"n\": 5},\n",
    "            {\"h\": end_h, \"n\": 5},\n",
    "            {\"h\": 3.578, \"n\": 5}\n",
    "            ],  \n",
    "    partitioner=PETScGraphPartitioner(),\n",
    ")\n",
    "\n",
    "grid = meshgen.Execute()\n",
    "\n",
    "\n",
    "grid.ExportToPVTU(\"extruded_mesh_3A\")"
   ]
  },
  {
   "cell_type": "code",
   "execution_count": null,
   "metadata": {},
   "outputs": [],
   "source": []
  }
 ],
 "metadata": {
  "kernelspec": {
   "display_name": "Python 3 (ipykernel)",
   "language": "python",
   "name": "python3"
  },
  "language_info": {
   "codemirror_mode": {
    "name": "ipython",
    "version": 3
   },
   "file_extension": ".py",
   "mimetype": "text/x-python",
   "name": "python",
   "nbconvert_exporter": "python",
   "pygments_lexer": "ipython3",
   "version": "3.12.3"
  }
 },
 "nbformat": 4,
 "nbformat_minor": 4
}
