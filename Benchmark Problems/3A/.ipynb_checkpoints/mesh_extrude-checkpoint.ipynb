{
 "cells": [
  {
   "cell_type": "code",
   "execution_count": 6,
   "metadata": {
    "vscode": {
     "languageId": "plaintext"
    }
   },
   "outputs": [],
   "source": [
    "import os\n",
    "import sys\n",
    "\n",
    "sys.path.append(\"../..\")\n",
    "\n",
    "from pyopensn.mesh import FromFileMeshGenerator, ExtruderMeshGenerator, PETScGraphPartitioner\n",
    "from pyopensn.context import UseColor, Finalize\n",
    "\n",
    "UseColor(False)"
   ]
  },
  {
   "cell_type": "code",
   "execution_count": 7,
   "metadata": {
    "vscode": {
     "languageId": "plaintext"
    }
   },
   "outputs": [
    {
     "name": "stdout",
     "output_type": "stream",
     "text": [
      "[0]  FromFileMeshGenerator: Generating UnpartitionedMesh\n",
      "[0]  Making Unpartitioned mesh from wavefront file ./2A/lattice_2A.obj\n",
      "[0]  Max material id: 10\n",
      "[0]  Done checking cell-center-to-face orientations\n",
      "[0]  00:09:26.6 Establishing cell connectivity.\n",
      "[0]  00:09:26.6 Vertex cell subscriptions complete.\n",
      "[0]  00:09:26.6 Surpassing cell 3888 of 38880 (10%)\n",
      "[0]  00:09:26.6 Surpassing cell 7776 of 38880 (20%)\n",
      "[0]  00:09:26.6 Surpassing cell 11665 of 38880 (30%)\n",
      "[0]  00:09:26.6 Surpassing cell 15552 of 38880 (40%)\n",
      "[0]  00:09:26.6 Surpassing cell 19440 of 38880 (50%)\n",
      "[0]  00:09:26.6 Surpassing cell 23329 of 38880 (60%)\n",
      "[0]  00:09:26.6 Surpassing cell 27217 of 38880 (70%)\n",
      "[0]  00:09:26.6 Surpassing cell 31104 of 38880 (80%)\n",
      "[0]  00:09:26.6 Surpassing cell 34992 of 38880 (90%)\n",
      "[0]  00:09:26.6 Surpassing cell 38880 of 38880 (100%)\n",
      "[0]  00:09:26.6 Establishing cell boundary connectivity.\n",
      "[0]  00:09:26.6 Done establishing cell connectivity.\n",
      "[0]  Done checking cell-center-to-face orientations\n",
      "[0]  00:09:26.7 Establishing cell connectivity.\n",
      "[0]  00:09:26.8 Vertex cell subscriptions complete.\n",
      "[0]  00:09:26.8 Surpassing cell 19440 of 194400 (10%)\n",
      "[0]  00:09:26.9 Surpassing cell 38880 of 194400 (20%)\n",
      "[0]  00:09:26.9 Surpassing cell 58321 of 194400 (30%)\n",
      "[0]  00:09:26.9 Surpassing cell 77760 of 194400 (40%)\n",
      "[0]  00:09:26.9 Surpassing cell 97200 of 194400 (50%)\n",
      "[0]  00:09:26.9 Surpassing cell 116641 of 194400 (60%)\n",
      "[0]  00:09:26.9 Surpassing cell 136081 of 194400 (70%)\n",
      "[0]  00:09:26.9 Surpassing cell 155520 of 194400 (80%)\n",
      "[0]  00:09:26.9 Surpassing cell 174960 of 194400 (90%)\n",
      "[0]  00:09:26.9 Surpassing cell 194400 of 194400 (100%)\n",
      "[0]  00:09:26.9 Establishing cell boundary connectivity.\n",
      "[0]  00:09:26.9 Done establishing cell connectivity.\n",
      "[0]  Number of cells per partition (max,min,avg) = 194400,194400,194400\n",
      "[0]  \n",
      "[0]  Mesh statistics:\n",
      "[0]    Global cell count             : 194400\n",
      "[0]    Local cell count (avg,max,min): 194400,194400,194400\n",
      "[0]    Ghost-to-local ratio (avg)    : 0\n",
      "[0]  \n",
      "[0]  Exporting mesh to VTK files with base ./3A/Extruded_mesh_only\n",
      "[0]  Done exporting mesh to VTK.\n"
     ]
    }
   ],
   "source": [
    "meshgen = ExtruderMeshGenerator(\n",
    "    inputs=[\n",
    "        FromFileMeshGenerator(\n",
    "            filename=\"./2A/lattice_2A.obj\",\n",
    "        )\n",
    "    ],\n",
    "    layers=[{\"z\": 1.1, \"n\": 2},\n",
    "            {\"z\": 2.1, \"n\": 3},\n",
    "            ],  \n",
    "    partitioner=PETScGraphPartitioner(),\n",
    ")\n",
    "grid = meshgen.Execute()\n",
    "\n",
    "\n",
    "grid.ExportToPVTU(\"./3A/Extruded_mesh_only\")"
   ]
  },
  {
   "cell_type": "code",
   "execution_count": 3,
   "metadata": {
    "vscode": {
     "languageId": "plaintext"
    }
   },
   "outputs": [
    {
     "name": "stdout",
     "output_type": "stream",
     "text": [
      "Error in callback <function finalize_env at 0x7f95e046f2e0> (for post_execute), with arguments args (),kwargs {}:\n"
     ]
    },
    {
     "ename": "NameError",
     "evalue": "name 'MPI' is not defined",
     "output_type": "error",
     "traceback": [
      "\u001b[31m---------------------------------------------------------------------------\u001b[39m",
      "\u001b[31mNameError\u001b[39m                                 Traceback (most recent call last)",
      "\u001b[36mCell\u001b[39m\u001b[36m \u001b[39m\u001b[32mIn[3]\u001b[39m\u001b[32m, line 5\u001b[39m, in \u001b[36mfinalize_env\u001b[39m\u001b[34m()\u001b[39m\n\u001b[32m      3\u001b[39m \u001b[38;5;28;01mdef\u001b[39;00m\u001b[38;5;250m \u001b[39m\u001b[34mfinalize_env\u001b[39m():\n\u001b[32m      4\u001b[39m     Finalize()\n\u001b[32m----> \u001b[39m\u001b[32m5\u001b[39m     \u001b[43mMPI\u001b[49m.Finalize()\n",
      "\u001b[31mNameError\u001b[39m: name 'MPI' is not defined"
     ]
    }
   ],
   "source": [
    "from IPython import get_ipython\n",
    "\n",
    "def finalize_env():\n",
    "    Finalize()\n",
    "    MPI.Finalize()\n",
    "\n",
    "ipython_instance = get_ipython()\n",
    "if ipython_instance is not None:\n",
    "    ipython_instance.events.register(\"post_execute\", finalize_env)"
   ]
  },
  {
   "cell_type": "code",
   "execution_count": null,
   "metadata": {},
   "outputs": [],
   "source": []
  }
 ],
 "metadata": {
  "kernelspec": {
   "display_name": "Python 3 (ipykernel)",
   "language": "python",
   "name": "python3"
  },
  "language_info": {
   "codemirror_mode": {
    "name": "ipython",
    "version": 3
   },
   "file_extension": ".py",
   "mimetype": "text/x-python",
   "name": "python",
   "nbconvert_exporter": "python",
   "pygments_lexer": "ipython3",
   "version": "3.12.3"
  }
 },
 "nbformat": 4,
 "nbformat_minor": 4
}
