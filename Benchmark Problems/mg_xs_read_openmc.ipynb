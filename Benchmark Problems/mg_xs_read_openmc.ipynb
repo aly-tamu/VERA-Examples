{
 "cells": [
  {
   "cell_type": "markdown",
   "metadata": {},
   "source": [
    "# Read HDF5 file from OpenMC to load multi-group cross sections\n",
    "Here, we load the cross sections from an OpenMC HDF5 file.\n",
    "\n",
    "To run the code, simply type: `jupyter nbconvert --to python --execute <basename>.ipynb`.\n",
    "\n",
    "To convert it to a python file (named `<basename>.py`), simply type: `jupyter nbconvert --to python <basename>.ipynb`"
   ]
  },
  {
   "cell_type": "code",
   "execution_count": 62,
   "metadata": {
    "vscode": {
     "languageId": "plaintext"
    }
   },
   "outputs": [],
   "source": [
    "import os\n",
    "import sys\n",
    "import numpy as np\n",
    "\n",
    "#sys.path.append(\"../..\")\n",
    "\n",
    "from pyopensn.xs import MultiGroupXS\n",
    "from pyopensn.context import UseColor, Finalize\n",
    "import matplotlib.pyplot as plt\n",
    "UseColor(False)"
   ]
  },
  {
   "cell_type": "code",
   "execution_count": 12,
   "metadata": {},
   "outputs": [
    {
     "data": {
      "text/plain": [
       "\u001b[31mDocstring:\u001b[39m\n",
       "LoadFromOpenMC(self: pyopensn.xs.MultiGroupXS, file_name: str, dataset_name: str, temperature: float) -> None\n",
       "\n",
       "Load multi-group cross sections from an OpenMC cross-section file.\n",
       "\u001b[31mType:\u001b[39m      method"
      ]
     },
     "metadata": {},
     "output_type": "display_data"
    }
   ],
   "source": [
    "xs_uo2.LoadFromOpenMC?"
   ]
  },
  {
   "cell_type": "markdown",
   "metadata": {},
   "source": [
    "## Call OpenMC cross-section reader"
   ]
  },
  {
   "cell_type": "code",
   "execution_count": 69,
   "metadata": {
    "vscode": {
     "languageId": "plaintext"
    }
   },
   "outputs": [
    {
     "name": "stdout",
     "output_type": "stream",
     "text": [
      "[0]  Reading OpenMC cross-section file \"2P/mgxs_casl_2p/mgxs_2p_one_eighth_SHEM-361.h5\"\n",
      "[0]  2P/mgxs_casl_2p/mgxs_2p_one_eighth_SHEM-361.h5 cross-section data evaluated at 294K\n",
      "[0]  *** WARNING ***  Estimating absorption from the transfer matrices.\n",
      "[0]  *** WARNING ***  Negative absorption cross section encountered in group 2 when estimating from the transfer matrices\n",
      "[0]  *** WARNING ***  Negative absorption cross section encountered in group 4 when estimating from the transfer matrices\n"
     ]
    }
   ],
   "source": [
    "# load cross sections\n",
    "xs_uo2 = MultiGroupXS()\n",
    "filepath = '2P/mgxs_casl_2p/mgxs_2p_one_eighth_SHEM-361.h5'\n",
    "\n",
    "#filepath = \"../../../test/python/modules/linear_boltzmann_solvers/transport_keigen/uo2.h5\"\n",
    "xs_uo2.LoadFromOpenMC(filepath, \"gd_fuel\", 294)"
   ]
  },
  {
   "cell_type": "markdown",
   "metadata": {},
   "source": [
    "## Some cross-section data can be retrieved in Python"
   ]
  },
  {
   "cell_type": "code",
   "execution_count": 70,
   "metadata": {
    "vscode": {
     "languageId": "plaintext"
    }
   },
   "outputs": [
    {
     "name": "stdout",
     "output_type": "stream",
     "text": [
      "num_groups       =  361\n",
      "scattering_order =  7\n",
      "sigt =  361\n"
     ]
    },
    {
     "data": {
      "text/plain": [
       "[<matplotlib.lines.Line2D at 0x7f2a98775a60>]"
      ]
     },
     "execution_count": 70,
     "metadata": {},
     "output_type": "execute_result"
    },
    {
     "data": {
      "image/png": "[encoded data removed]",
      "text/plain": [
       "<Figure size 640x480 with 1 Axes>"
      ]
     },
     "metadata": {},
     "output_type": "display_data"
    }
   ],
   "source": [
    "# Retrieve properties\n",
    "ng = xs_uo2.num_groups\n",
    "sca_order = xs_uo2.scattering_order\n",
    "\n",
    "print(\"num_groups       = \", ng)\n",
    "print(\"scattering_order = \", sca_order)\n",
    "\n",
    "# note cross sections are read-only objects of type <memoryview>\n",
    "# retrieve a numpy array\n",
    "#siga = np.array(xs_uo2.sigma_a)\n",
    "#print(\"siga = \", siga)\n",
    "# retrieve as list\n",
    "sigt = np.array(xs_uo2.sigma_a)\n",
    "print(\"sigt = \", sigt.size)\n",
    "x=np.arange(sigt.size)\n",
    "plt.plot(x,sigt)"
   ]
  },
  {
   "cell_type": "markdown",
   "metadata": {},
   "source": [
    "## Finalize (for Jupyter Notebook only)\n",
    "\n",
    "In Python script mode, PyOpenSn automatically handles environment termination. However, this\n",
    "automatic finalization does not occur when running in a Jupyter notebook, so explicit finalization\n",
    "of the environment at the end of the notebook is required. Do not call the finalization in Python\n",
    "script mode, or in console mode.\n",
    "\n",
    "Note that PyOpenSn's finalization must be called before MPI's finalization.\n"
   ]
  },
  {
   "cell_type": "code",
   "execution_count": null,
   "metadata": {
    "vscode": {
     "languageId": "plaintext"
    }
   },
   "outputs": [],
   "source": [
    "from IPython import get_ipython\n",
    "\n",
    "def finalize_env():\n",
    "    Finalize()\n",
    "    MPI.Finalize()\n",
    "\n",
    "ipython_instance = get_ipython()\n",
    "if ipython_instance is not None:\n",
    "    ipython_instance.events.register(\"post_execute\", finalize_env)"
   ]
  }
 ],
 "metadata": {
  "kernelspec": {
   "display_name": "Python 3 (ipykernel)",
   "language": "python",
   "name": "python3"
  },
  "language_info": {
   "codemirror_mode": {
    "name": "ipython",
    "version": 3
   },
   "file_extension": ".py",
   "mimetype": "text/x-python",
   "name": "python",
   "nbconvert_exporter": "python",
   "pygments_lexer": "ipython3",
   "version": "3.12.3"
  }
 },
 "nbformat": 4,
 "nbformat_minor": 4
}
