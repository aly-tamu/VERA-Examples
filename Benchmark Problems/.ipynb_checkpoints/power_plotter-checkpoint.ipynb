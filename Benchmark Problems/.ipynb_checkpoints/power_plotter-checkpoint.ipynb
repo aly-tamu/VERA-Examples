{
 "cells": [
  {
   "cell_type": "code",
   "execution_count": 1,
   "id": "6cb4054d-4a00-4012-81e3-63266e15671d",
   "metadata": {},
   "outputs": [],
   "source": [
    "import numpy as np\n",
    "import matplotlib.pyplot as plt\n",
    "from prettytable import PrettyTable\n",
    "import os"
   ]
  },
  {
   "cell_type": "code",
   "execution_count": 2,
   "id": "5b16c3d9-e9cf-4b9a-828d-6bd6c3a97881",
   "metadata": {},
   "outputs": [],
   "source": [
    "def import_power(file_path):    \n",
    "    with open(file_path) as fp:\n",
    "        data = [list(map(float, line.strip().split(' '))) for line in fp]\n",
    "        return np.array(data)\n",
    "    # 1. iterate over file line-by-line\n",
    "    # 2. strip line of newline symbols\n",
    "    # 3. split line by spaces into list (of number strings)\n",
    "    # 4. convert number substrings to int values\n",
    "    # 5. convert map object to list\n",
    "        "
   ]
  },
  {
   "cell_type": "code",
   "execution_count": 8,
   "id": "137120d9-9a29-4a6c-9283-ce8fb4a48f09",
   "metadata": {},
   "outputs": [],
   "source": [
    "filepath = os.getcwd()+'/2B/power.txt'\n",
    "power = import_power(filepath)\n"
   ]
  },
  {
   "cell_type": "code",
   "execution_count": 9,
   "id": "64510866-6b1a-424f-929b-5da5e955c3f1",
   "metadata": {},
   "outputs": [
    {
     "name": "stdout",
     "output_type": "stream",
     "text": [
      "+----------+---------+---------+---------+---------+---------+---------+---------+---------+\n",
      "|    1     |    2    |    3    |    4    |    5    |    6    |    7    |    8    |    9    |\n",
      "+----------+---------+---------+---------+---------+---------+---------+---------+---------+\n",
      "|    0     |    0    |    0    |    0    |    0    |    0    |    0    |    0    |    0    |\n",
      "| 0.189158 |    0    |    0    |    0    |    0    |    0    |    0    |    0    |    0    |\n",
      "| 0.195006 | 1.46481 |  1.4261 |    0    |    0    |    0    |    0    |    0    |    0    |\n",
      "| 0.32704  | 1.48776 | 1.42826 | 1.77494 |    0    |    0    |    0    |    0    |    0    |\n",
      "| 0.194005 |    0    | 1.48356 | 1.44099 |    0    |    0    |    0    |    0    |    0    |\n",
      "| 0.198257 | 1.49579 | 1.45579 | 1.50975 | 1.52835 | 1.47537 |    0    |    0    |    0    |\n",
      "| 0.330625 | 1.50333 |  1.445  | 1.79716 | 1.50943 | 1.44049 | 1.77408 |    0    |    0    |\n",
      "|  0.1953  |    0    | 1.48965 | 1.44474 |    0    | 1.48262 | 1.42729 |    0    |    0    |\n",
      "| 0.19891  | 1.49757 | 1.45638 | 1.50271 | 1.49477 | 1.44769 |  1.4864 | 1.46342 | 1.40223 |\n",
      "+----------+---------+---------+---------+---------+---------+---------+---------+---------+\n"
     ]
    }
   ],
   "source": [
    "table = PrettyTable()\n",
    "\n",
    "if '2A' in filepath:\n",
    "    idx_fuel_cells = np.argwhere(power>0)\n",
    "    nnz_fuel_cells = len(idx_fuel_cells)\n",
    "    power /= np.sum(power)\n",
    "    power *= nnz_fuel_cells\n",
    "    \n",
    "    dat = power.copy()[1:10,1:10]    \n",
    "else:\n",
    "    idx_fuel_cells = np.argwhere(power>0)\n",
    "    nnz_fuel_cells = len(idx_fuel_cells)\n",
    "    power[4,:] *= 2\n",
    "    power[:,4] *= 2\n",
    "    power /= np.sum(power)\n",
    "    power *= nnz_fuel_cells\n",
    "\n",
    "    dat = power.copy()\n",
    "    for i in range(0,dat.shape[0]):\n",
    "        for j in range(0,dat.shape[1]):\n",
    "            dat[i,j] = power[i,j] if j <= i else 0 \n",
    "    dat = dat[4:-4,4:-4]\n",
    "\n",
    "\n",
    "\n",
    "\n",
    "#data_list = np.flip(dat, 1).tolist()\n",
    "#data_list = dat.transpose().tolist()\n",
    "data_list = dat.tolist()\n",
    "n_list = [str(n) for n in range(1, len(data_list)+1)]\n",
    "table.field_names = n_list\n",
    "\n",
    "for row in data_list:\n",
    "    # Format each value to 2 decimal places\n",
    "    formatted_row = [f\"{x:.6g}\" for x in row]\n",
    "    table.add_row(formatted_row)\n",
    "\n",
    "print(table)"
   ]
  },
  {
   "cell_type": "code",
   "execution_count": 10,
   "id": "5c7eba5e-7dfb-4263-a58f-5d9662c6950d",
   "metadata": {},
   "outputs": [
    {
     "data": {
      "image/png": "[encoded data removed]",
      "text/plain": [
       "<Figure size 1000x1000 with 2 Axes>"
      ]
     },
     "metadata": {},
     "output_type": "display_data"
    }
   ],
   "source": [
    "plt.figure(figsize=(10,10))\n",
    "plt.imshow(dat, cmap='turbo')  # You can change the colormap if desired\n",
    "plt.title('2D Array Plot')\n",
    "plt.colorbar()  # Adds a colorbar to show the scale\n",
    "#plt.clim([0.9,1.3])\n",
    "plt.show()"
   ]
  },
  {
   "cell_type": "code",
   "execution_count": null,
   "id": "c224f589-8bff-49dc-8ebd-9b8545234be2",
   "metadata": {},
   "outputs": [],
   "source": []
  }
 ],
 "metadata": {
  "kernelspec": {
   "display_name": "Python 3 (ipykernel)",
   "language": "python",
   "name": "python3"
  },
  "language_info": {
   "codemirror_mode": {
    "name": "ipython",
    "version": 3
   },
   "file_extension": ".py",
   "mimetype": "text/x-python",
   "name": "python",
   "nbconvert_exporter": "python",
   "pygments_lexer": "ipython3",
   "version": "3.12.3"
  }
 },
 "nbformat": 4,
 "nbformat_minor": 5
}
