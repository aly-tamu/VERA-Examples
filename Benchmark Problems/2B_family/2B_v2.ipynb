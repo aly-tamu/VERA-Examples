{
 "cells": [
  {
   "cell_type": "markdown",
   "id": "cdd8a24a-a018-4a2b-aaed-7eae9c99a62b",
   "metadata": {},
   "source": [
    "# CASL Fuel assembly 2B"
   ]
  },
  {
   "cell_type": "markdown",
   "id": "880099d7-f1e0-4a4f-9a03-3d4c52de6943",
   "metadata": {},
   "source": [
    "# Import modules"
   ]
  },
  {
   "cell_type": "code",
   "execution_count": 1,
   "id": "e4b5e472-92fe-4d54-b9df-c70131c052a1",
   "metadata": {},
   "outputs": [],
   "source": [
    "import openmc\n",
    "import openmc.mgxs as mgxs\n",
    "\n",
    "import numpy as np\n",
    "import matplotlib.pyplot as plt"
   ]
  },
  {
   "cell_type": "markdown",
   "id": "beb6b720",
   "metadata": {},
   "source": [
    "# Add location of OpenMC XS executable, setup ENDF xs path"
   ]
  },
  {
   "cell_type": "code",
   "execution_count": 2,
   "id": "967f9f6c",
   "metadata": {},
   "outputs": [
    {
     "name": "stdout",
     "output_type": "stream",
     "text": [
      "env: OPENMC_CROSS_SECTIONS=/Users/jean.ragusa/repo/endfb-viii.0-hdf5/cross_sections.xml\n"
     ]
    }
   ],
   "source": [
    "import os\n",
    "\n",
    "# Add path to OpenMC binary\n",
    "# os.environ['PATH'] += r':/path/to/openmc/bin'\n",
    "os.environ['PATH'] += r':/Users/jean.ragusa/repo/openmc/local/bin'\n",
    "\n",
    "# Add location of OpenMC xs data\n",
    "%env OPENMC_CROSS_SECTIONS=/Users/jean.ragusa/repo/endfb-viii.0-hdf5/cross_sections.xml"
   ]
  },
  {
   "cell_type": "markdown",
   "id": "c5a93e0f",
   "metadata": {},
   "source": [
    "# Start model"
   ]
  },
  {
   "cell_type": "code",
   "execution_count": 3,
   "id": "81bd266a",
   "metadata": {},
   "outputs": [],
   "source": [
    "model = openmc.Model()"
   ]
  },
  {
   "cell_type": "markdown",
   "id": "d759264e-22d9-45ed-9b06-58531a984021",
   "metadata": {},
   "source": [
    "# Define Materials"
   ]
  },
  {
   "cell_type": "code",
   "execution_count": 4,
   "id": "4d9f5bf4",
   "metadata": {},
   "outputs": [],
   "source": [
    "uo2 = openmc.Material(name='uo2')\n",
    "\n",
    "uo2.add_nuclide('U234', 6.11864E-06, 'ao')\n",
    "uo2.add_nuclide('U235', 7.18132E-04, 'ao')\n",
    "uo2.add_nuclide('U236', 3.29861E-06, 'ao')\n",
    "uo2.add_nuclide('U238', 2.21546E-02, 'ao')\n",
    "uo2.add_nuclide('O16', 4.57642E-02, 'ao')\n",
    "\n",
    "uo2.set_density('g/cm3', 10.257 )\n",
    "\n",
    "uo2.temperature = 600"
   ]
  },
  {
   "cell_type": "code",
   "execution_count": 5,
   "id": "e6e51a5e",
   "metadata": {},
   "outputs": [],
   "source": [
    "zirconium = openmc.Material(name=\"zirconium\")\n",
    "\n",
    "zirconium.add_nuclide('Zr90', 2.18865E-02, 'ao')\n",
    "zirconium.add_nuclide('Zr91', 4.77292E-03, 'ao')\n",
    "zirconium.add_nuclide('Zr92', 7.29551E-03, 'ao')\n",
    "zirconium.add_nuclide('Zr94', 7.39335E-03, 'ao')\n",
    "zirconium.add_nuclide('Zr96', 1.19110E-03, 'ao')\n",
    "zirconium.add_nuclide('Sn112',4.68066E-06, 'ao')\n",
    "zirconium.add_nuclide('Sn114', 3.18478E-06, 'ao')\n",
    "zirconium.add_nuclide('Sn115', 1.64064E-06, 'ao')\n",
    "zirconium.add_nuclide('Sn116', 7.01616E-05, 'ao')\n",
    "zirconium.add_nuclide('Sn117', 3.70592E-05, 'ao')\n",
    "zirconium.add_nuclide('Sn118', 1.16872E-04, 'ao')\n",
    "zirconium.add_nuclide('Sn119', 4.14504E-05, 'ao')\n",
    "zirconium.add_nuclide('Sn120', 1.57212E-04, 'ao')\n",
    "zirconium.add_nuclide('Sn122', 2.23417E-05, 'ao')\n",
    "zirconium.add_nuclide('Sn124', 2.79392E-05, 'ao')\n",
    "zirconium.add_nuclide('Fe54', 8.68307E-06, 'ao')\n",
    "zirconium.add_nuclide('Fe56', 1.36306E-04, 'ao')\n",
    "zirconium.add_nuclide('Fe57', 3.14789E-06, 'ao')\n",
    "zirconium.add_nuclide('Fe58', 4.18926E-07, 'ao')\n",
    "zirconium.add_nuclide('Cr50', 3.30121E-06, 'ao')\n",
    "zirconium.add_nuclide('Cr52', 6.36606E-05, 'ao')\n",
    "zirconium.add_nuclide('Cr53', 7.21860E-06, 'ao')\n",
    "zirconium.add_nuclide('Cr54', 1.79686E-06, 'ao')\n",
    "zirconium.add_nuclide('Hf174', 3.54138E-09, 'ao')\n",
    "zirconium.add_nuclide('Hf176', 1.16423E-07, 'ao')\n",
    "zirconium.add_nuclide('Hf177', 4.11686E-07, 'ao')\n",
    "zirconium.add_nuclide('Hf178', 6.03806E-07, 'ao')\n",
    "zirconium.add_nuclide('Hf179', 3.01460E-07, 'ao')\n",
    "zirconium.add_nuclide('Hf180', 7.76449E-07, 'ao')\n",
    "\n",
    "zirconium.set_density('g/cm3',  6.56)\n",
    "\n",
    "zirconium.temperature = 600"
   ]
  },
  {
   "cell_type": "code",
   "execution_count": 6,
   "id": "9ca3e82b",
   "metadata": {},
   "outputs": [],
   "source": [
    "water = openmc.Material(name=\"water\")\n",
    "\n",
    "water.add_nuclide('H1',4.96224E-02, 'ao')\n",
    "water.add_nuclide('O16', 2.48112E-02, 'ao')\n",
    "water.add_nuclide('B10', 1.07070E-05, 'ao')\n",
    "water.add_nuclide('B11', 4.30971E-05, 'ao')\n",
    "\n",
    "water.add_s_alpha_beta('c_H_in_H2O')\n",
    "\n",
    "water.set_density('g/cm3', 0.661)\n",
    "\n",
    "water.temperature = 600"
   ]
  },
  {
   "cell_type": "code",
   "execution_count": 7,
   "id": "dc859426",
   "metadata": {},
   "outputs": [],
   "source": [
    "helium = openmc.Material(name=\"helium\")\n",
    "\n",
    "helium.add_nuclide('He4',1, 'ao')\n",
    "\n",
    "helium.set_density('g/cm3', 0.178E-03 )\n",
    "\n",
    "helium.temperature = 600"
   ]
  },
  {
   "cell_type": "markdown",
   "id": "598144c7",
   "metadata": {},
   "source": [
    "### do not do this here because of cloning later on"
   ]
  },
  {
   "cell_type": "code",
   "execution_count": 8,
   "id": "50dee80c-d7a7-49e1-99ef-5094e87b5808",
   "metadata": {
    "scrolled": false
   },
   "outputs": [],
   "source": [
    "# model.materials = openmc.Materials([uo2, zirconium, water,helium]) \n",
    "\n",
    "# print(model.materials)"
   ]
  },
  {
   "cell_type": "markdown",
   "id": "b1668431",
   "metadata": {},
   "source": [
    "# Defining individiual cells"
   ]
  },
  {
   "cell_type": "code",
   "execution_count": 9,
   "id": "61b93849",
   "metadata": {},
   "outputs": [],
   "source": [
    "pitch = 1.26"
   ]
  },
  {
   "cell_type": "markdown",
   "id": "6096a5de",
   "metadata": {},
   "source": [
    "### Planes used to define cells"
   ]
  },
  {
   "cell_type": "code",
   "execution_count": 10,
   "id": "4a86f3c3",
   "metadata": {},
   "outputs": [],
   "source": [
    "left   = openmc.XPlane(-pitch/2, boundary_type='transmission')\n",
    "right  = openmc.XPlane( pitch/2, boundary_type='transmission')\n",
    "bottom = openmc.YPlane(-pitch/2, boundary_type='transmission')\n",
    "top    = openmc.YPlane( pitch/2, boundary_type='transmission')"
   ]
  },
  {
   "cell_type": "markdown",
   "id": "ffd5255c-47f3-4394-836f-140dddeef018",
   "metadata": {},
   "source": [
    "### Create fuel pin: fuel, clad, water"
   ]
  },
  {
   "cell_type": "code",
   "execution_count": 11,
   "id": "2867e0e9",
   "metadata": {},
   "outputs": [],
   "source": [
    "def pin_cell_universe(family):\n",
    "    fuel_outer_radius = openmc.ZCylinder(r=0.4096)\n",
    "    gap_inner_radius  = openmc.ZCylinder(r=0.418)\n",
    "    clad_outer_radius = openmc.ZCylinder(r=0.475)\n",
    "\n",
    "    fuel_region  = -fuel_outer_radius\n",
    "    gap_region   = +fuel_outer_radius & -gap_inner_radius\n",
    "    clad_region  = +gap_inner_radius  & -clad_outer_radius\n",
    "    water_region = +clad_outer_radius & +left & -right & +bottom & -top\n",
    "\n",
    "    fuel = openmc.Cell(name=family+'-fuel')\n",
    "    fuel.region = fuel_region\n",
    "    new_fuel = uo2.clone()\n",
    "    fuel.fill = new_fuel\n",
    "\n",
    "    gap = openmc.Cell(name=family+'-gap')\n",
    "    gap.region = gap_region\n",
    "    gap.fill = helium     \n",
    "\n",
    "    clad = openmc.Cell(name=family+'-clad')\n",
    "    clad.fill = zirconium\n",
    "    clad.region = clad_region\n",
    "\n",
    "    moderator = openmc.Cell(name=family+'-moderator')\n",
    "    moderator.fill = water\n",
    "    moderator.region = water_region \n",
    "\n",
    "    return openmc.Universe(name=family+'-pin_univ', cells=(fuel, clad, moderator,gap)), new_fuel"
   ]
  },
  {
   "cell_type": "markdown",
   "id": "8f1d95cc",
   "metadata": {},
   "source": [
    "### Create guide tube: water, clad, water"
   ]
  },
  {
   "cell_type": "code",
   "execution_count": 12,
   "id": "1bdb4097",
   "metadata": {},
   "outputs": [],
   "source": [
    "gt_inner_radius = openmc.ZCylinder(r=0.561)\n",
    "gt_outer_radius = openmc.ZCylinder(r=0.602)\n",
    "\n",
    "gt_water_in_region  = -gt_inner_radius\n",
    "gt_clad_region      = +gt_inner_radius & -gt_outer_radius\n",
    "gt_water_out_region = +gt_outer_radius & +left & -right & +bottom & -top\n",
    "\n",
    "gt_water_in = openmc.Cell(name='gt-water-in')\n",
    "gt_water_in.fill = water\n",
    "gt_water_in.region = gt_water_in_region\n",
    "\n",
    "gt_clad = openmc.Cell(name='gt-clad')\n",
    "gt_clad.fill = zirconium\n",
    "gt_clad.region = gt_clad_region\n",
    "\n",
    "gt_water_out = openmc.Cell(name='gt-water-out')\n",
    "gt_water_out.fill = water\n",
    "gt_water_out.region = gt_water_out_region \n",
    "\n",
    "gt_univ = openmc.Universe(name='gt_univ', cells=(gt_water_in, gt_clad, gt_water_out))"
   ]
  },
  {
   "cell_type": "markdown",
   "id": "4c859055",
   "metadata": {},
   "source": [
    "### Create instrumentation tube: water, clad, water"
   ]
  },
  {
   "cell_type": "code",
   "execution_count": 13,
   "id": "8ed6215b",
   "metadata": {},
   "outputs": [],
   "source": [
    "it_inner_radius = openmc.ZCylinder(r=0.559)\n",
    "it_outer_radius = openmc.ZCylinder(r=0.605)\n",
    "\n",
    "it_water_in_region  = -it_inner_radius\n",
    "it_clad_region      = +it_inner_radius & -it_outer_radius\n",
    "it_water_out_region = +it_outer_radius & +left & -right & +bottom & -top\n",
    "\n",
    "it_water_in = openmc.Cell(name='it-water-in')\n",
    "it_water_in.fill = water\n",
    "it_water_in.region = it_water_in_region\n",
    "\n",
    "it_clad = openmc.Cell(name='it-clad')\n",
    "it_clad.fill = zirconium\n",
    "it_clad.region = it_clad_region\n",
    "\n",
    "it_water_out = openmc.Cell(name='it-water-out')\n",
    "it_water_out.fill = water\n",
    "it_water_out.region = it_water_out_region \n",
    "\n",
    "it_univ = openmc.Universe(name='it_univ', cells=(it_water_in, it_clad, it_water_out))"
   ]
  },
  {
   "cell_type": "markdown",
   "id": "837619a7",
   "metadata": {},
   "source": [
    "## Read fuel assembly layout"
   ]
  },
  {
   "cell_type": "code",
   "execution_count": 14,
   "id": "0dc2d8d0",
   "metadata": {},
   "outputs": [],
   "source": [
    "import csv\n",
    "from collections import Counter\n",
    "\n",
    "def read_csv_to_2d_array(file_path):\n",
    "    with open(file_path, newline='', encoding='utf-8') as csvfile:\n",
    "        reader = csv.reader(csvfile)\n",
    "        data = [row for row in reader]\n",
    "    return np.asarray(data)\n",
    "\n",
    "def count_frequencies(data):\n",
    "    flattened_data = [item for row in data for item in row]  # Flatten 2D array into a 1D list\n",
    "    cell_frequencies = Counter(flattened_data)\n",
    "    print(\"cell name frequency:\")\n",
    "    total = 0\n",
    "    for key, value in cell_frequencies.items():\n",
    "        print(f'\"{key}\": {value}')\n",
    "        total += value\n",
    "    print(\"total: \",total)\n",
    "\n",
    "def fuel_keys(data, exclude_keys=[\"gt\",\"it\"]):\n",
    "    \"\"\"\n",
    "    Return a list of keys after excluding any keys found in 'exclude_keys'.\n",
    "    \n",
    "    Parameters:\n",
    "        keys (list): List of keys to filter.\n",
    "        exclude_keys (list): List of keys that should be excluded from the result.\n",
    "    \n",
    "    Returns:\n",
    "        list: A new list with the keys not present in the exclude_keys list.\n",
    "    \"\"\"\n",
    "    flattened_data = [item for row in data for item in row]  # Flatten 2D array into a 1D list\n",
    "    cell_frequencies = Counter(flattened_data)\n",
    "    keys = list(cell_frequencies.keys())\n",
    "    return [key for key in keys if key not in exclude_keys]\n"
   ]
  },
  {
   "cell_type": "code",
   "execution_count": 15,
   "id": "577c14b6",
   "metadata": {},
   "outputs": [
    {
     "name": "stdout",
     "output_type": "stream",
     "text": [
      "cell name frequency:\n",
      "\"fu\": 264\n",
      "\"gt\": 24\n",
      "\"it\": 1\n",
      "total:  289\n",
      "\n",
      "fuel names= ['fu']\n"
     ]
    }
   ],
   "source": [
    "file_path = 'FA_cell_names_7_families.csv'  # Change this to the actual path of your CSV file\n",
    "file_path = 'FA_cell_names_1_family.csv'    # Change this to the actual path of your CSV file\n",
    "\n",
    "# read cell names\n",
    "FA_cell_names = read_csv_to_2d_array(file_path)\n",
    "# print statistics\n",
    "count_frequencies(FA_cell_names)\n",
    "\n",
    "# check\n",
    "if FA_cell_names.shape[0] != FA_cell_names.shape[1]:\n",
    "    raise Exception('array of cell names is not square')\n",
    "# number of fuel assembly per dimension\n",
    "Nassy = FA_cell_names.shape[0] # size of the assembly \n",
    "\n",
    "# get fuel cell names\n",
    "fuel_names = fuel_keys(FA_cell_names)\n",
    "print(\"\\nfuel names=\",fuel_names)"
   ]
  },
  {
   "cell_type": "markdown",
   "id": "4c56968c",
   "metadata": {},
   "source": [
    "## Create several fuel pin universes to handle the multiple fuel-MGXS to be generated"
   ]
  },
  {
   "cell_type": "code",
   "execution_count": 16,
   "id": "566aa8bf",
   "metadata": {},
   "outputs": [],
   "source": [
    "# list of material that will be used\n",
    "material_list = [ helium, zirconium, water ]\n",
    "\n",
    "pin_univ_clones = {}\n",
    "for fuel_name in fuel_names:\n",
    "    pin_univ_clones[fuel_name], new_fuel = pin_cell_universe(fuel_name)\n",
    "    material_list.append(new_fuel)"
   ]
  },
  {
   "cell_type": "code",
   "execution_count": 17,
   "id": "b9eb60cd",
   "metadata": {},
   "outputs": [
    {
     "name": "stdout",
     "output_type": "stream",
     "text": [
      "[Material\n",
      "\tID             =\t4\n",
      "\tName           =\thelium\n",
      "\tTemperature    =\t600\n",
      "\tDensity        =\t0.000178 [g/cm3]\n",
      "\tVolume         =\tNone [cm^3]\n",
      "\tDepletable     =\tFalse\n",
      "\tS(a,b) Tables  \n",
      "\tNuclides       \n",
      "\tHe4            =\t1            [ao]\n",
      ", Material\n",
      "\tID             =\t2\n",
      "\tName           =\tzirconium\n",
      "\tTemperature    =\t600\n",
      "\tDensity        =\t6.56 [g/cm3]\n",
      "\tVolume         =\tNone [cm^3]\n",
      "\tDepletable     =\tFalse\n",
      "\tS(a,b) Tables  \n",
      "\tNuclides       \n",
      "\tZr90           =\t0.0218865    [ao]\n",
      "\tZr91           =\t0.00477292   [ao]\n",
      "\tZr92           =\t0.00729551   [ao]\n",
      "\tZr94           =\t0.00739335   [ao]\n",
      "\tZr96           =\t0.0011911    [ao]\n",
      "\tSn112          =\t4.68066e-06  [ao]\n",
      "\tSn114          =\t3.18478e-06  [ao]\n",
      "\tSn115          =\t1.64064e-06  [ao]\n",
      "\tSn116          =\t7.01616e-05  [ao]\n",
      "\tSn117          =\t3.70592e-05  [ao]\n",
      "\tSn118          =\t0.000116872  [ao]\n",
      "\tSn119          =\t4.14504e-05  [ao]\n",
      "\tSn120          =\t0.000157212  [ao]\n",
      "\tSn122          =\t2.23417e-05  [ao]\n",
      "\tSn124          =\t2.79392e-05  [ao]\n",
      "\tFe54           =\t8.68307e-06  [ao]\n",
      "\tFe56           =\t0.000136306  [ao]\n",
      "\tFe57           =\t3.14789e-06  [ao]\n",
      "\tFe58           =\t4.18926e-07  [ao]\n",
      "\tCr50           =\t3.30121e-06  [ao]\n",
      "\tCr52           =\t6.36606e-05  [ao]\n",
      "\tCr53           =\t7.2186e-06   [ao]\n",
      "\tCr54           =\t1.79686e-06  [ao]\n",
      "\tHf174          =\t3.54138e-09  [ao]\n",
      "\tHf176          =\t1.16423e-07  [ao]\n",
      "\tHf177          =\t4.11686e-07  [ao]\n",
      "\tHf178          =\t6.03806e-07  [ao]\n",
      "\tHf179          =\t3.0146e-07   [ao]\n",
      "\tHf180          =\t7.76449e-07  [ao]\n",
      ", Material\n",
      "\tID             =\t3\n",
      "\tName           =\twater\n",
      "\tTemperature    =\t600\n",
      "\tDensity        =\t0.661 [g/cm3]\n",
      "\tVolume         =\tNone [cm^3]\n",
      "\tDepletable     =\tFalse\n",
      "\tS(a,b) Tables  \n",
      "\tS(a,b)         =\t('c_H_in_H2O', 1.0)\n",
      "\tNuclides       \n",
      "\tH1             =\t0.0496224    [ao]\n",
      "\tO16            =\t0.0248112    [ao]\n",
      "\tB10            =\t1.0707e-05   [ao]\n",
      "\tB11            =\t4.30971e-05  [ao]\n",
      ", Material\n",
      "\tID             =\t5\n",
      "\tName           =\tuo2\n",
      "\tTemperature    =\t600\n",
      "\tDensity        =\t10.257 [g/cm3]\n",
      "\tVolume         =\tNone [cm^3]\n",
      "\tDepletable     =\tTrue\n",
      "\tS(a,b) Tables  \n",
      "\tNuclides       \n",
      "\tU234           =\t6.11864e-06  [ao]\n",
      "\tU235           =\t0.000718132  [ao]\n",
      "\tU236           =\t3.29861e-06  [ao]\n",
      "\tU238           =\t0.0221546    [ao]\n",
      "\tO16            =\t0.0457642    [ao]\n",
      "]\n"
     ]
    }
   ],
   "source": [
    "model.materials = openmc.Materials(material_list) \n",
    "\n",
    "print(model.materials)"
   ]
  },
  {
   "cell_type": "code",
   "execution_count": 18,
   "id": "368dca20",
   "metadata": {},
   "outputs": [
    {
     "data": {
      "text/plain": [
       "Material\n",
       "\tID             =\t1\n",
       "\tName           =\tuo2\n",
       "\tTemperature    =\t600\n",
       "\tDensity        =\t10.257 [g/cm3]\n",
       "\tVolume         =\tNone [cm^3]\n",
       "\tDepletable     =\tTrue\n",
       "\tS(a,b) Tables  \n",
       "\tNuclides       \n",
       "\tU234           =\t6.11864e-06  [ao]\n",
       "\tU235           =\t0.000718132  [ao]\n",
       "\tU236           =\t3.29861e-06  [ao]\n",
       "\tU238           =\t0.0221546    [ao]\n",
       "\tO16            =\t0.0457642    [ao]"
      ]
     },
     "execution_count": 18,
     "metadata": {},
     "output_type": "execute_result"
    }
   ],
   "source": [
    "uo2"
   ]
  },
  {
   "cell_type": "code",
   "execution_count": 19,
   "id": "3695ff70",
   "metadata": {},
   "outputs": [
    {
     "data": {
      "text/plain": [
       "{'fu': Universe\n",
       " \tID             =\t3\n",
       " \tName           =\tfu-pin_univ\n",
       " \tGeom           =\tCSG\n",
       " \tCells          =\t[7, 9, 10, 8]}"
      ]
     },
     "execution_count": 19,
     "metadata": {},
     "output_type": "execute_result"
    }
   ],
   "source": [
    "pin_univ_clones"
   ]
  },
  {
   "cell_type": "markdown",
   "id": "6ef44caa",
   "metadata": {},
   "source": [
    "# Lattice geometry"
   ]
  },
  {
   "cell_type": "code",
   "execution_count": 20,
   "id": "bf6a54fd",
   "metadata": {},
   "outputs": [],
   "source": [
    "FA_lat = openmc.RectLattice()\n",
    "\n",
    "FA_lat.pitch = (pitch, pitch)\n",
    "\n",
    "FA_half_width = Nassy * pitch / 2\n",
    "\n",
    "FA_lat.lower_left = (-FA_half_width, -FA_half_width)"
   ]
  },
  {
   "cell_type": "markdown",
   "id": "5a2a29ed",
   "metadata": {},
   "source": [
    "### Fill in cells of fuel assembly"
   ]
  },
  {
   "cell_type": "markdown",
   "id": "cf3c5d23",
   "metadata": {},
   "source": [
    "### caveat. user supplied bool in the cell below :  `one_eighth`"
   ]
  },
  {
   "cell_type": "code",
   "execution_count": 21,
   "id": "b9d0efbb",
   "metadata": {},
   "outputs": [],
   "source": [
    "# either 1/8 or 1/4 of FA\n",
    "one_eighth = True"
   ]
  },
  {
   "cell_type": "code",
   "execution_count": 22,
   "id": "cbfd80a5",
   "metadata": {
    "scrolled": false
   },
   "outputs": [],
   "source": [
    "# ndarray of type openmc Universe    \n",
    "FA_univ_layout = np.empty((Nassy, Nassy), dtype = openmc.universe.Universe)\n",
    "\n",
    "for i in range(Nassy):\n",
    "    for j in range(Nassy):\n",
    "        cellname = FA_cell_names[i,j]\n",
    "        if cellname == 'gt':\n",
    "            FA_univ_layout[i,j] = gt_univ\n",
    "        elif cellname == 'it':\n",
    "            FA_univ_layout[i,j] = it_univ\n",
    "        elif cellname in fuel_names:\n",
    "            FA_univ_layout[i,j] = pin_univ_clones[cellname]            \n",
    "        else:\n",
    "            mesg = 'i={},j={},cell-name {} not recognized'.format(i, j, cellname)\n",
    "            raise ValueError(mesg)\n",
    "\n",
    "# assign universes\n",
    "FA_lat.universes = FA_univ_layout\n",
    "\n",
    "# create cell that will contain the lattice\n",
    "moderator_outside_cell = openmc.Cell( name = 'water_outside', fill = water )\n",
    "\n",
    "FA_lat.outer = openmc.Universe( name='outer', cells = [moderator_outside_cell] )\n",
    "\n",
    "# height\n",
    "FA_height = 10.\n",
    "# half of the inter fuel assembly water gap (half the spacing in between FAs)\n",
    "dr2 = 0.04 \n",
    "\n",
    "\n",
    "min_x = openmc.XPlane(x0= 0.               , boundary_type='reflective')\n",
    "max_x = openmc.XPlane(x0= FA_half_width+dr2, boundary_type='reflective')\n",
    "min_y = openmc.YPlane(y0= 0.               , boundary_type='reflective')\n",
    "max_y = openmc.YPlane(y0= FA_half_width+dr2, boundary_type='reflective')\n",
    "min_z = openmc.ZPlane(z0=-FA_height/2      , boundary_type='reflective')\n",
    "max_z = openmc.ZPlane(z0= FA_height/2      , boundary_type='reflective')\n",
    "xy    = openmc.Plane(-1., 1.               , boundary_type='reflective')\n",
    "\n",
    "\n",
    "# define root universe\n",
    "root_cell = openmc.Cell( name = 'root cell', fill = FA_lat )\n",
    "\n",
    "if one_eighth:\n",
    "    root_cell.region = -max_x & +min_y & -xy\n",
    "else:\n",
    "    root_cell.region = +min_x & -max_x & +min_y & -max_y & +min_z & -max_z"
   ]
  },
  {
   "cell_type": "markdown",
   "id": "de242f56-575c-4162-9850-e01d316406e4",
   "metadata": {},
   "source": [
    "### Plot"
   ]
  },
  {
   "cell_type": "code",
   "execution_count": 23,
   "id": "7fd0c70a",
   "metadata": {},
   "outputs": [
    {
     "data": {
      "text/plain": [
       "<Axes: xlabel='x [cm]', ylabel='y [cm]'>"
      ]
     },
     "execution_count": 23,
     "metadata": {},
     "output_type": "execute_result"
    },
    {
     "data": {
      "image/png": "[encoded data removed]",
      "text/plain": [
       "<Figure size 1935.48x1948.05 with 1 Axes>"
      ]
     },
     "metadata": {},
     "output_type": "display_data"
    }
   ],
   "source": [
    "root_cell.plot(origin=(5,5,0), pixels=(1500,1500), width=(15,15),color_by='cell',outline=True)"
   ]
  },
  {
   "cell_type": "code",
   "execution_count": 24,
   "id": "329896d0",
   "metadata": {},
   "outputs": [
    {
     "data": {
      "text/plain": [
       "<Axes: xlabel='x [cm]', ylabel='y [cm]'>"
      ]
     },
     "execution_count": 24,
     "metadata": {},
     "output_type": "execute_result"
    },
    {
     "data": {
      "image/png": "[encoded data removed]",
      "text/plain": [
       "<Figure size 1935.48x1948.05 with 1 Axes>"
      ]
     },
     "metadata": {},
     "output_type": "display_data"
    }
   ],
   "source": [
    "root_cell.plot(origin=(5,5,0), pixels=(1500,1500), width=(15,15),color_by='material', outline=True)"
   ]
  },
  {
   "cell_type": "code",
   "execution_count": 25,
   "id": "7e6e96c8",
   "metadata": {},
   "outputs": [],
   "source": [
    "model.geometry.root_universe = openmc.Universe(name = 'root universe', cells=[root_cell])"
   ]
  },
  {
   "cell_type": "markdown",
   "id": "1d1c3623",
   "metadata": {},
   "source": [
    "### Source"
   ]
  },
  {
   "cell_type": "code",
   "execution_count": 26,
   "id": "37512c13",
   "metadata": {},
   "outputs": [
    {
     "data": {
      "text/plain": [
       "BoundingBox(lower_left=(-inf, 0.0, -inf), upper_right=(10.75, inf, inf))"
      ]
     },
     "execution_count": 26,
     "metadata": {},
     "output_type": "execute_result"
    }
   ],
   "source": [
    "model.geometry.bounding_box"
   ]
  },
  {
   "cell_type": "code",
   "execution_count": 27,
   "id": "25ce0675",
   "metadata": {},
   "outputs": [
    {
     "name": "stdout",
     "output_type": "stream",
     "text": [
      "BoundingBox(lower_left=(0.0, 0.0, -5.0), upper_right=(10.71, 10.71, 5.0))\n"
     ]
    }
   ],
   "source": [
    "bbox = openmc.BoundingBox(lower_left  = [0., 0., -FA_height/2], \\\n",
    "                          upper_right = [FA_half_width, FA_half_width, FA_height/2])\n",
    "print(bbox)"
   ]
  },
  {
   "cell_type": "code",
   "execution_count": 28,
   "id": "e56bb1c8",
   "metadata": {},
   "outputs": [],
   "source": [
    "uniform_dist = openmc.stats.Box(bbox.lower_left, bbox.upper_right, only_fissionable=True)\n",
    "\n",
    "source = openmc.IndependentSource(space=uniform_dist)"
   ]
  },
  {
   "cell_type": "markdown",
   "id": "90c73240-9aae-4a8e-ab35-fbc68032fb85",
   "metadata": {},
   "source": [
    "###  Settings\n",
    "\n",
    "### caveat: destination folder supplied here"
   ]
  },
  {
   "cell_type": "code",
   "execution_count": 29,
   "id": "42b13809-e8ac-45b5-8e4d-af2f00a57694",
   "metadata": {},
   "outputs": [],
   "source": [
    "# instantitate settings object\n",
    "settings = openmc.Settings()\n",
    "\n",
    "# add source\n",
    "settings.source = source\n",
    "\n",
    "# add additional parameters\n",
    "settings.batches =  50\n",
    "settings.inactive = 20\n",
    "settings.particles = 5000\n",
    "# settings.keff_trigger = {'type':'std_dev','threshold':0.00010}\n",
    "# settings.trigger_active = True\n",
    "# settings.trigger_max_batches = 50000\n",
    "# settings.output = {'tallies':True}\n",
    "settings.temperature['method'] = 'interpolation'\n",
    "\n",
    "my_path = './mgxs_casl_2b'\n",
    "settings.output = {'tallies': True, 'path':my_path}\n",
    "\n",
    "model.settings = settings"
   ]
  },
  {
   "cell_type": "code",
   "execution_count": 30,
   "id": "a4d0152f",
   "metadata": {},
   "outputs": [],
   "source": [
    "# check if folder exists\n",
    "import pathlib\n",
    "path = pathlib.Path(my_path)\n",
    "path.mkdir(parents = True, exist_ok = True)"
   ]
  },
  {
   "cell_type": "markdown",
   "id": "709977dc-3ea8-48a7-ab09-bb9cecc54ffa",
   "metadata": {},
   "source": [
    "### Choose energy group"
   ]
  },
  {
   "cell_type": "code",
   "execution_count": 31,
   "id": "aab8a0b2",
   "metadata": {},
   "outputs": [
    {
     "data": {
      "text/plain": [
       "'./mgxs_casl_2b'"
      ]
     },
     "execution_count": 31,
     "metadata": {},
     "output_type": "execute_result"
    }
   ],
   "source": [
    "my_path"
   ]
  },
  {
   "cell_type": "code",
   "execution_count": 32,
   "id": "fbc12bc6-1180-46b2-af7e-d54c0cedb555",
   "metadata": {},
   "outputs": [],
   "source": [
    "# egroup_name = 'XMAS-172'\n",
    "egroup_name = 'SHEM-361'\n",
    "egroup = openmc.mgxs.GROUP_STRUCTURES[egroup_name]"
   ]
  },
  {
   "cell_type": "markdown",
   "id": "c4e87c13-a743-4039-b93c-001057d7b3af",
   "metadata": {},
   "source": [
    "### Create MGXS tallies for mgxs directory"
   ]
  },
  {
   "cell_type": "code",
   "execution_count": 33,
   "id": "e4080f07",
   "metadata": {},
   "outputs": [],
   "source": [
    "tally_power = openmc.Tally(name='power')\n",
    "\n",
    "# Instantiate a tally Mesh\n",
    "mesh = openmc.RegularMesh()\n",
    "mesh._dimension = [17, 17]\n",
    "mesh._lower_left = [-FA_half_width, -FA_half_width]\n",
    "mesh._upper_right = [FA_half_width,FA_half_width]\n",
    "\n",
    "# Instantiate tally Filter\n",
    "mesh_filter = openmc.MeshFilter(mesh)\n",
    "\n",
    "tally_power.scores = ['fission', 'nu-fission', 'kappa-fission']\n",
    "tally_power.filters = [mesh_filter]\n",
    "\n",
    "tallies = openmc.Tallies([tally_power])\n",
    "# model.tallies=tallies"
   ]
  },
  {
   "cell_type": "code",
   "execution_count": 34,
   "id": "2c0b1a64",
   "metadata": {},
   "outputs": [],
   "source": [
    "tally_by_cells = True"
   ]
  },
  {
   "cell_type": "code",
   "execution_count": 35,
   "id": "dc4f0d15",
   "metadata": {},
   "outputs": [
    {
     "name": "stderr",
     "output_type": "stream",
     "text": [
      "/Users/jean.ragusa/anaconda3/lib/python3.11/site-packages/openmc/mgxs/library.py:401: RuntimeWarning: The P0 correction will be ignored since the scattering order 7 is greater than zero\n",
      "  warn(msg, RuntimeWarning)\n"
     ]
    }
   ],
   "source": [
    "pn = 7\n",
    "    \n",
    "mgxs_lib = openmc.mgxs.Library(model.geometry)\n",
    "groups = openmc.mgxs.EnergyGroups(egroup)\n",
    "\n",
    "mgxs_lib.energy_groups = groups\n",
    "mgxs_lib.scatter_format = \"legendre\"\n",
    "mgxs_lib.mgxs_types = ['total', 'absorption', 'nu-fission', 'fission' ,'chi', \\\n",
    "                       'consistent nu-scatter matrix', 'multiplicity matrix','kappa-fission']\n",
    "\n",
    "mgxs_lib.legendre_order = pn\n",
    "if pn == 0:\n",
    "    mgxs_lib.correction = None\n",
    "\n",
    "mgxs_lib.by_nuclide = False\n",
    "\n",
    "if tally_by_cells:\n",
    "    # Specify a \"cell\" domain type for the cross section tally filters\n",
    "    mgxs_lib.domain_type = 'cell'\n",
    "    # Specify the cell domains over which to compute multi-group cross sections\n",
    "    mgxs_lib.domains = model.geometry.get_all_material_cells().values()\n",
    "else:\n",
    "    mgxs_lib.domain_type = 'universe'\n",
    "    mgxs_lib.domains = model.geometry.get_all_universes().values()\n",
    "    \n",
    "# Construct all tallies needed for the multi-group cross section library\n",
    "mgxs_lib.build_library()\n",
    "mgxs_lib.check_library_for_openmc_mgxs()\n",
    "\n",
    "# tallies = openmc.Tallies()\n",
    "mgxs_lib.add_to_tallies_file(tallies, merge=True)\n",
    "\n",
    "model.tallies = tallies"
   ]
  },
  {
   "cell_type": "markdown",
   "id": "aac9b55c-58f4-43b6-8234-6357d898c087",
   "metadata": {},
   "source": [
    "### Export model"
   ]
  },
  {
   "cell_type": "code",
   "execution_count": 36,
   "id": "0351a212",
   "metadata": {},
   "outputs": [],
   "source": [
    "## model.export_to_model_xml('casl_2B.xml')"
   ]
  },
  {
   "cell_type": "markdown",
   "id": "971540b5-5bfb-47be-86f6-9d8b80a38f27",
   "metadata": {},
   "source": [
    "### Run OpenMC model"
   ]
  },
  {
   "cell_type": "code",
   "execution_count": 37,
   "id": "0b266f15",
   "metadata": {},
   "outputs": [
    {
     "name": "stdout",
     "output_type": "stream",
     "text": [
      "sp NOT found\n"
     ]
    }
   ],
   "source": [
    "# trick to make several runs work with jupyter\n",
    "try:\n",
    "    sp \n",
    "    print('sp found')\n",
    "    sp.close()\n",
    "except NameError:\n",
    "    print('sp NOT found')"
   ]
  },
  {
   "cell_type": "code",
   "execution_count": 38,
   "id": "5cbc48d1-6c95-4536-bb96-498fd0e54c0a",
   "metadata": {
    "scrolled": false
   },
   "outputs": [
    {
     "name": "stderr",
     "output_type": "stream",
     "text": [
      "/Users/jean.ragusa/anaconda3/lib/python3.11/site-packages/openmc/mixin.py:70: IDWarning: Another Filter instance already exists with id=401.\n",
      "  warn(msg, IDWarning)\n",
      "/Users/jean.ragusa/anaconda3/lib/python3.11/site-packages/openmc/mixin.py:70: IDWarning: Another Filter instance already exists with id=3.\n",
      "  warn(msg, IDWarning)\n",
      "/Users/jean.ragusa/anaconda3/lib/python3.11/site-packages/openmc/mixin.py:70: IDWarning: Another Filter instance already exists with id=11.\n",
      "  warn(msg, IDWarning)\n"
     ]
    },
    {
     "name": "stdout",
     "output_type": "stream",
     "text": [
      "                                %%%%%%%%%%%%%%%\n",
      "                           %%%%%%%%%%%%%%%%%%%%%%%%\n",
      "                        %%%%%%%%%%%%%%%%%%%%%%%%%%%%%%\n",
      "                      %%%%%%%%%%%%%%%%%%%%%%%%%%%%%%%%%%\n",
      "                    %%%%%%%%%%%%%%%%%%%%%%%%%%%%%%%%%%%%%%\n",
      "                   %%%%%%%%%%%%%%%%%%%%%%%%%%%%%%%%%%%%%%%%\n",
      "                                    %%%%%%%%%%%%%%%%%%%%%%%%\n",
      "                                     %%%%%%%%%%%%%%%%%%%%%%%%\n",
      "                 ###############      %%%%%%%%%%%%%%%%%%%%%%%%\n",
      "                ##################     %%%%%%%%%%%%%%%%%%%%%%%\n",
      "                ###################     %%%%%%%%%%%%%%%%%%%%%%%\n",
      "                ####################     %%%%%%%%%%%%%%%%%%%%%%\n",
      "                #####################     %%%%%%%%%%%%%%%%%%%%%\n",
      "                ######################     %%%%%%%%%%%%%%%%%%%%\n",
      "                #######################     %%%%%%%%%%%%%%%%%%\n",
      "                 #######################     %%%%%%%%%%%%%%%%%\n",
      "                 ######################     %%%%%%%%%%%%%%%%%\n",
      "                  ####################     %%%%%%%%%%%%%%%%%\n",
      "                    #################     %%%%%%%%%%%%%%%%%\n",
      "                     ###############     %%%%%%%%%%%%%%%%\n",
      "                       ############     %%%%%%%%%%%%%%%\n",
      "                          ########     %%%%%%%%%%%%%%\n",
      "                                      %%%%%%%%%%%\n",
      "\n",
      "                 | The OpenMC Monte Carlo Code\n",
      "       Copyright | 2011-2024 MIT, UChicago Argonne LLC, and contributors\n",
      "         License | https://docs.openmc.org/en/latest/license.html\n",
      "         Version | 0.14.1-dev\n",
      "        Git SHA1 | cfe210da22367ce5cf928482e7b74e48c909a7ee\n",
      "       Date/Time | 2025-03-24 00:07:59\n",
      "  OpenMP Threads | 12\n",
      "\n",
      " Reading model XML file 'model.xml' ...\n",
      " WARNING: Other XML file input(s) are present. These files may be ignored in\n",
      "          favor of the model.xml file.\n",
      " Reading cross sections XML file...\n",
      " Reading Zr90 from /Users/jean.ragusa/repo/endfb-viii.0-hdf5/neutron/Zr90.h5\n",
      " Reading Zr91 from /Users/jean.ragusa/repo/endfb-viii.0-hdf5/neutron/Zr91.h5\n",
      " Reading Zr92 from /Users/jean.ragusa/repo/endfb-viii.0-hdf5/neutron/Zr92.h5\n",
      " Reading Zr94 from /Users/jean.ragusa/repo/endfb-viii.0-hdf5/neutron/Zr94.h5\n",
      " Reading Zr96 from /Users/jean.ragusa/repo/endfb-viii.0-hdf5/neutron/Zr96.h5\n",
      " WARNING: Negative value(s) found on probability table for nuclide Zr96 at 294K\n",
      " WARNING: Negative value(s) found on probability table for nuclide Zr96 at 600K\n",
      " Reading Sn112 from /Users/jean.ragusa/repo/endfb-viii.0-hdf5/neutron/Sn112.h5\n",
      " Reading Sn114 from /Users/jean.ragusa/repo/endfb-viii.0-hdf5/neutron/Sn114.h5\n",
      " Reading Sn115 from /Users/jean.ragusa/repo/endfb-viii.0-hdf5/neutron/Sn115.h5\n",
      " Reading Sn116 from /Users/jean.ragusa/repo/endfb-viii.0-hdf5/neutron/Sn116.h5\n",
      " Reading Sn117 from /Users/jean.ragusa/repo/endfb-viii.0-hdf5/neutron/Sn117.h5\n",
      " Reading Sn118 from /Users/jean.ragusa/repo/endfb-viii.0-hdf5/neutron/Sn118.h5\n",
      " Reading Sn119 from /Users/jean.ragusa/repo/endfb-viii.0-hdf5/neutron/Sn119.h5\n",
      " Reading Sn120 from /Users/jean.ragusa/repo/endfb-viii.0-hdf5/neutron/Sn120.h5\n",
      " Reading Sn122 from /Users/jean.ragusa/repo/endfb-viii.0-hdf5/neutron/Sn122.h5\n",
      " Reading Sn124 from /Users/jean.ragusa/repo/endfb-viii.0-hdf5/neutron/Sn124.h5\n",
      " Reading Fe54 from /Users/jean.ragusa/repo/endfb-viii.0-hdf5/neutron/Fe54.h5\n",
      " Reading Fe56 from /Users/jean.ragusa/repo/endfb-viii.0-hdf5/neutron/Fe56.h5\n",
      " Reading Fe57 from /Users/jean.ragusa/repo/endfb-viii.0-hdf5/neutron/Fe57.h5\n",
      " Reading Fe58 from /Users/jean.ragusa/repo/endfb-viii.0-hdf5/neutron/Fe58.h5\n",
      " Reading Cr50 from /Users/jean.ragusa/repo/endfb-viii.0-hdf5/neutron/Cr50.h5\n",
      " Reading Cr52 from /Users/jean.ragusa/repo/endfb-viii.0-hdf5/neutron/Cr52.h5\n",
      " Reading Cr53 from /Users/jean.ragusa/repo/endfb-viii.0-hdf5/neutron/Cr53.h5\n",
      " Reading Cr54 from /Users/jean.ragusa/repo/endfb-viii.0-hdf5/neutron/Cr54.h5\n",
      " Reading Hf174 from /Users/jean.ragusa/repo/endfb-viii.0-hdf5/neutron/Hf174.h5\n",
      " Reading Hf176 from /Users/jean.ragusa/repo/endfb-viii.0-hdf5/neutron/Hf176.h5\n",
      " Reading Hf177 from /Users/jean.ragusa/repo/endfb-viii.0-hdf5/neutron/Hf177.h5\n",
      " Reading Hf178 from /Users/jean.ragusa/repo/endfb-viii.0-hdf5/neutron/Hf178.h5\n",
      " Reading Hf179 from /Users/jean.ragusa/repo/endfb-viii.0-hdf5/neutron/Hf179.h5\n",
      " Reading Hf180 from /Users/jean.ragusa/repo/endfb-viii.0-hdf5/neutron/Hf180.h5\n",
      " Reading H1 from /Users/jean.ragusa/repo/endfb-viii.0-hdf5/neutron/H1.h5\n",
      " Reading O16 from /Users/jean.ragusa/repo/endfb-viii.0-hdf5/neutron/O16.h5\n",
      " Reading B10 from /Users/jean.ragusa/repo/endfb-viii.0-hdf5/neutron/B10.h5\n",
      " Reading B11 from /Users/jean.ragusa/repo/endfb-viii.0-hdf5/neutron/B11.h5\n",
      " Reading He4 from /Users/jean.ragusa/repo/endfb-viii.0-hdf5/neutron/He4.h5\n",
      " Reading U234 from /Users/jean.ragusa/repo/endfb-viii.0-hdf5/neutron/U234.h5\n",
      " Reading U235 from /Users/jean.ragusa/repo/endfb-viii.0-hdf5/neutron/U235.h5\n",
      " Reading U236 from /Users/jean.ragusa/repo/endfb-viii.0-hdf5/neutron/U236.h5\n",
      " Reading U238 from /Users/jean.ragusa/repo/endfb-viii.0-hdf5/neutron/U238.h5\n",
      " Reading c_H_in_H2O from\n",
      " /Users/jean.ragusa/repo/endfb-viii.0-hdf5/neutron/c_H_in_H2O.h5\n",
      " Minimum neutron data temperature: 294 K\n",
      " Maximum neutron data temperature: 600 K\n",
      " Preparing distributed cell instances...\n",
      " Reading plot XML file...\n",
      " Writing summary.h5 file...\n",
      " Maximum neutron transport energy: 20000000 eV for Zr90\n",
      " Initializing source particles...\n",
      "\n",
      " ====================>     K EIGENVALUE SIMULATION     <====================\n",
      "\n",
      "  Bat./Gen.      k            Average k\n",
      "  =========   ========   ====================\n",
      "        1/1    1.17896\n",
      "        2/1    1.17607\n",
      "        3/1    1.20717\n",
      "        4/1    1.16497\n",
      "        5/1    1.18353\n",
      "        6/1    1.21797\n",
      "        7/1    1.19802\n",
      "        8/1    1.16795\n",
      "        9/1    1.20364\n",
      "       10/1    1.17652\n",
      "       11/1    1.17530\n",
      "       12/1    1.21344\n",
      "       13/1    1.20297\n",
      "       14/1    1.19069\n",
      "       15/1    1.19063\n",
      "       16/1    1.18028\n",
      "       17/1    1.18049\n",
      "       18/1    1.20413\n",
      "       19/1    1.18169\n",
      "       20/1    1.19838\n",
      "       21/1    1.16172\n",
      "       22/1    1.15479    1.15825 +/- 0.00346\n",
      "       23/1    1.18768    1.16806 +/- 0.01001\n",
      "       24/1    1.17296    1.16929 +/- 0.00718\n",
      "       25/1    1.20486    1.17640 +/- 0.00903\n",
      "       26/1    1.16020    1.17370 +/- 0.00785\n",
      "       27/1    1.19238    1.17637 +/- 0.00715\n",
      "       28/1    1.15398    1.17357 +/- 0.00680\n",
      "       29/1    1.18777    1.17515 +/- 0.00620\n",
      "       30/1    1.18445    1.17608 +/- 0.00562\n",
      "       31/1    1.23672    1.18159 +/- 0.00750\n",
      "       32/1    1.21405    1.18430 +/- 0.00736\n",
      "       33/1    1.16290    1.18265 +/- 0.00697\n",
      "       34/1    1.20339    1.18413 +/- 0.00662\n",
      "       35/1    1.18560    1.18423 +/- 0.00616\n",
      "       36/1    1.18638    1.18436 +/- 0.00577\n",
      "       37/1    1.18423    1.18436 +/- 0.00542\n",
      "       38/1    1.18603    1.18445 +/- 0.00511\n",
      "       39/1    1.17538    1.18397 +/- 0.00486\n",
      "       40/1    1.21135    1.18534 +/- 0.00481\n",
      "       41/1    1.19430    1.18577 +/- 0.00459\n",
      "       42/1    1.20588    1.18668 +/- 0.00447\n",
      "       43/1    1.17772    1.18629 +/- 0.00429\n",
      "       44/1    1.16828    1.18554 +/- 0.00418\n",
      "       45/1    1.18519    1.18553 +/- 0.00401\n",
      "       46/1    1.18308    1.18543 +/- 0.00385\n",
      "       47/1    1.18684    1.18549 +/- 0.00370\n",
      "       48/1    1.18840    1.18559 +/- 0.00357\n",
      "       49/1    1.15802    1.18464 +/- 0.00357\n",
      "       50/1    1.18467    1.18464 +/- 0.00345\n",
      " Creating state point ./mgxs_casl_2b/statepoint.50.h5...\n",
      "\n",
      " =======================>     TIMING STATISTICS     <=======================\n",
      "\n",
      " Total time for initialization     = 3.7956e+00 seconds\n",
      "   Reading cross sections          = 3.7470e+00 seconds\n",
      " Total time in simulation          = 4.0533e+00 seconds\n",
      "   Time in transport only          = 3.6852e+00 seconds\n",
      "   Time in inactive batches        = 9.3547e-01 seconds\n",
      "   Time in active batches          = 3.1178e+00 seconds\n",
      "   Time synchronizing fission bank = 4.7610e-03 seconds\n",
      "     Sampling source sites         = 4.1270e-03 seconds\n",
      "     SEND/RECV source sites        = 6.2000e-04 seconds\n",
      "   Time accumulating tallies       = 1.2792e-01 seconds\n",
      "   Time writing statepoints        = 2.3250e-01 seconds\n",
      " Total time for finalization       = 1.0314e+01 seconds\n",
      " Total time elapsed                = 1.8230e+01 seconds\n",
      " Calculation Rate (inactive)       = 106898 particles/second\n",
      " Calculation Rate (active)         = 48110.4 particles/second\n",
      "\n",
      " ============================>     RESULTS     <============================\n",
      "\n",
      " k-effective (Collision)     = 1.18070 +/- 0.00339\n",
      " k-effective (Track-length)  = 1.18464 +/- 0.00345\n",
      " k-effective (Absorption)    = 1.17920 +/- 0.00321\n",
      " Combined k-effective        = 1.18144 +/- 0.00305\n",
      " Leakage Fraction            = 0.00000 +/- 0.00000\n",
      "\n"
     ]
    }
   ],
   "source": [
    "statepoint_filename = model.run()"
   ]
  },
  {
   "cell_type": "code",
   "execution_count": 39,
   "id": "eef1c5a7",
   "metadata": {},
   "outputs": [],
   "source": [
    "# Load the last statepoint file\n",
    "sp = openmc.StatePoint(statepoint_filename)"
   ]
  },
  {
   "cell_type": "code",
   "execution_count": 40,
   "id": "62eb2821",
   "metadata": {
    "scrolled": false
   },
   "outputs": [
    {
     "name": "stdout",
     "output_type": "stream",
     "text": [
      "fu-fuel\n",
      "fu-clad\n",
      "fu-moderator\n",
      "fu-gap\n",
      "gt-water-in\n",
      "gt-clad\n",
      "gt-water-out\n",
      "it-water-in\n",
      "it-clad\n",
      "it-water-out\n",
      "water_outside\n",
      "[Cell\n",
      "\tID             =\t7\n",
      "\tName           =\tfu-fuel\n",
      "\tFill           =\tMaterial 5\n",
      "\tRegion         =\t-9\n",
      "\tRotation       =\tNone\n",
      "\tTemperature    =\tNone\n",
      "\tTranslation    =\tNone\n",
      "\tVolume         =\tNone\n",
      ", Cell\n",
      "\tID             =\t9\n",
      "\tName           =\tfu-clad\n",
      "\tFill           =\tMaterial 2\n",
      "\tRegion         =\t(10 -11)\n",
      "\tRotation       =\tNone\n",
      "\tTemperature    =\tNone\n",
      "\tTranslation    =\tNone\n",
      "\tVolume         =\tNone\n",
      ", Cell\n",
      "\tID             =\t10\n",
      "\tName           =\tfu-moderator\n",
      "\tFill           =\tMaterial 3\n",
      "\tRegion         =\t(11 1 -2 3 -4)\n",
      "\tRotation       =\tNone\n",
      "\tTemperature    =\tNone\n",
      "\tTranslation    =\tNone\n",
      "\tVolume         =\tNone\n",
      ", Cell\n",
      "\tID             =\t8\n",
      "\tName           =\tfu-gap\n",
      "\tFill           =\tMaterial 4\n",
      "\tRegion         =\t(9 -10)\n",
      "\tRotation       =\tNone\n",
      "\tTemperature    =\tNone\n",
      "\tTranslation    =\tNone\n",
      "\tVolume         =\tNone\n",
      ", Cell\n",
      "\tID             =\t1\n",
      "\tName           =\tgt-water-in\n",
      "\tFill           =\tMaterial 3\n",
      "\tRegion         =\t-5\n",
      "\tRotation       =\tNone\n",
      "\tTemperature    =\tNone\n",
      "\tTranslation    =\tNone\n",
      "\tVolume         =\tNone\n",
      ", Cell\n",
      "\tID             =\t2\n",
      "\tName           =\tgt-clad\n",
      "\tFill           =\tMaterial 2\n",
      "\tRegion         =\t(5 -6)\n",
      "\tRotation       =\tNone\n",
      "\tTemperature    =\tNone\n",
      "\tTranslation    =\tNone\n",
      "\tVolume         =\tNone\n",
      ", Cell\n",
      "\tID             =\t3\n",
      "\tName           =\tgt-water-out\n",
      "\tFill           =\tMaterial 3\n",
      "\tRegion         =\t(6 1 -2 3 -4)\n",
      "\tRotation       =\tNone\n",
      "\tTemperature    =\tNone\n",
      "\tTranslation    =\tNone\n",
      "\tVolume         =\tNone\n",
      ", Cell\n",
      "\tID             =\t4\n",
      "\tName           =\tit-water-in\n",
      "\tFill           =\tMaterial 3\n",
      "\tRegion         =\t-7\n",
      "\tRotation       =\tNone\n",
      "\tTemperature    =\tNone\n",
      "\tTranslation    =\tNone\n",
      "\tVolume         =\tNone\n",
      ", Cell\n",
      "\tID             =\t5\n",
      "\tName           =\tit-clad\n",
      "\tFill           =\tMaterial 2\n",
      "\tRegion         =\t(7 -8)\n",
      "\tRotation       =\tNone\n",
      "\tTemperature    =\tNone\n",
      "\tTranslation    =\tNone\n",
      "\tVolume         =\tNone\n",
      ", Cell\n",
      "\tID             =\t6\n",
      "\tName           =\tit-water-out\n",
      "\tFill           =\tMaterial 3\n",
      "\tRegion         =\t(8 1 -2 3 -4)\n",
      "\tRotation       =\tNone\n",
      "\tTemperature    =\tNone\n",
      "\tTranslation    =\tNone\n",
      "\tVolume         =\tNone\n",
      ", Cell\n",
      "\tID             =\t11\n",
      "\tName           =\twater_outside\n",
      "\tFill           =\tMaterial 3\n",
      "\tRegion         =\tNone\n",
      "\tRotation       =\tNone\n",
      "\tTemperature    =\tNone\n",
      "\tTranslation    =\tNone\n",
      "\tVolume         =\tNone\n",
      "]\n"
     ]
    }
   ],
   "source": [
    "xs_names = [] \n",
    "for cell in (mgxs_lib.domains):\n",
    "    print(cell.name)\n",
    "    xs_names.append(cell.name)\n",
    "\n",
    "print(mgxs_lib.domains)"
   ]
  },
  {
   "cell_type": "code",
   "execution_count": 41,
   "id": "3d2f4a3f",
   "metadata": {},
   "outputs": [
    {
     "data": {
      "text/plain": [
       "dict_values([Cell\n",
       "\tID             =\t7\n",
       "\tName           =\tfu-fuel\n",
       "\tFill           =\tMaterial 5\n",
       "\tRegion         =\t-9\n",
       "\tRotation       =\tNone\n",
       "\tTemperature    =\tNone\n",
       "\tTranslation    =\tNone\n",
       "\tVolume         =\tNone\n",
       ", Cell\n",
       "\tID             =\t9\n",
       "\tName           =\tfu-clad\n",
       "\tFill           =\tMaterial 2\n",
       "\tRegion         =\t(10 -11)\n",
       "\tRotation       =\tNone\n",
       "\tTemperature    =\tNone\n",
       "\tTranslation    =\tNone\n",
       "\tVolume         =\tNone\n",
       ", Cell\n",
       "\tID             =\t10\n",
       "\tName           =\tfu-moderator\n",
       "\tFill           =\tMaterial 3\n",
       "\tRegion         =\t(11 1 -2 3 -4)\n",
       "\tRotation       =\tNone\n",
       "\tTemperature    =\tNone\n",
       "\tTranslation    =\tNone\n",
       "\tVolume         =\tNone\n",
       ", Cell\n",
       "\tID             =\t8\n",
       "\tName           =\tfu-gap\n",
       "\tFill           =\tMaterial 4\n",
       "\tRegion         =\t(9 -10)\n",
       "\tRotation       =\tNone\n",
       "\tTemperature    =\tNone\n",
       "\tTranslation    =\tNone\n",
       "\tVolume         =\tNone\n",
       ", Cell\n",
       "\tID             =\t1\n",
       "\tName           =\tgt-water-in\n",
       "\tFill           =\tMaterial 3\n",
       "\tRegion         =\t-5\n",
       "\tRotation       =\tNone\n",
       "\tTemperature    =\tNone\n",
       "\tTranslation    =\tNone\n",
       "\tVolume         =\tNone\n",
       ", Cell\n",
       "\tID             =\t2\n",
       "\tName           =\tgt-clad\n",
       "\tFill           =\tMaterial 2\n",
       "\tRegion         =\t(5 -6)\n",
       "\tRotation       =\tNone\n",
       "\tTemperature    =\tNone\n",
       "\tTranslation    =\tNone\n",
       "\tVolume         =\tNone\n",
       ", Cell\n",
       "\tID             =\t3\n",
       "\tName           =\tgt-water-out\n",
       "\tFill           =\tMaterial 3\n",
       "\tRegion         =\t(6 1 -2 3 -4)\n",
       "\tRotation       =\tNone\n",
       "\tTemperature    =\tNone\n",
       "\tTranslation    =\tNone\n",
       "\tVolume         =\tNone\n",
       ", Cell\n",
       "\tID             =\t4\n",
       "\tName           =\tit-water-in\n",
       "\tFill           =\tMaterial 3\n",
       "\tRegion         =\t-7\n",
       "\tRotation       =\tNone\n",
       "\tTemperature    =\tNone\n",
       "\tTranslation    =\tNone\n",
       "\tVolume         =\tNone\n",
       ", Cell\n",
       "\tID             =\t5\n",
       "\tName           =\tit-clad\n",
       "\tFill           =\tMaterial 2\n",
       "\tRegion         =\t(7 -8)\n",
       "\tRotation       =\tNone\n",
       "\tTemperature    =\tNone\n",
       "\tTranslation    =\tNone\n",
       "\tVolume         =\tNone\n",
       ", Cell\n",
       "\tID             =\t6\n",
       "\tName           =\tit-water-out\n",
       "\tFill           =\tMaterial 3\n",
       "\tRegion         =\t(8 1 -2 3 -4)\n",
       "\tRotation       =\tNone\n",
       "\tTemperature    =\tNone\n",
       "\tTranslation    =\tNone\n",
       "\tVolume         =\tNone\n",
       ", Cell\n",
       "\tID             =\t11\n",
       "\tName           =\twater_outside\n",
       "\tFill           =\tMaterial 3\n",
       "\tRegion         =\tNone\n",
       "\tRotation       =\tNone\n",
       "\tTemperature    =\tNone\n",
       "\tTranslation    =\tNone\n",
       "\tVolume         =\tNone\n",
       "])"
      ]
     },
     "execution_count": 41,
     "metadata": {},
     "output_type": "execute_result"
    }
   ],
   "source": [
    "model.geometry.get_all_material_cells().values()"
   ]
  },
  {
   "cell_type": "code",
   "execution_count": 42,
   "id": "b61c702c",
   "metadata": {
    "scrolled": false
   },
   "outputs": [
    {
     "data": {
      "text/plain": [
       "dict_values([Material\n",
       "\tID             =\t5\n",
       "\tName           =\tuo2\n",
       "\tTemperature    =\t600\n",
       "\tDensity        =\t10.257 [g/cm3]\n",
       "\tVolume         =\tNone [cm^3]\n",
       "\tDepletable     =\tTrue\n",
       "\tS(a,b) Tables  \n",
       "\tNuclides       \n",
       "\tU234           =\t6.11864e-06  [ao]\n",
       "\tU235           =\t0.000718132  [ao]\n",
       "\tU236           =\t3.29861e-06  [ao]\n",
       "\tU238           =\t0.0221546    [ao]\n",
       "\tO16            =\t0.0457642    [ao]\n",
       ", Material\n",
       "\tID             =\t2\n",
       "\tName           =\tzirconium\n",
       "\tTemperature    =\t600\n",
       "\tDensity        =\t6.56 [g/cm3]\n",
       "\tVolume         =\tNone [cm^3]\n",
       "\tDepletable     =\tFalse\n",
       "\tS(a,b) Tables  \n",
       "\tNuclides       \n",
       "\tZr90           =\t0.0218865    [ao]\n",
       "\tZr91           =\t0.00477292   [ao]\n",
       "\tZr92           =\t0.00729551   [ao]\n",
       "\tZr94           =\t0.00739335   [ao]\n",
       "\tZr96           =\t0.0011911    [ao]\n",
       "\tSn112          =\t4.68066e-06  [ao]\n",
       "\tSn114          =\t3.18478e-06  [ao]\n",
       "\tSn115          =\t1.64064e-06  [ao]\n",
       "\tSn116          =\t7.01616e-05  [ao]\n",
       "\tSn117          =\t3.70592e-05  [ao]\n",
       "\tSn118          =\t0.000116872  [ao]\n",
       "\tSn119          =\t4.14504e-05  [ao]\n",
       "\tSn120          =\t0.000157212  [ao]\n",
       "\tSn122          =\t2.23417e-05  [ao]\n",
       "\tSn124          =\t2.79392e-05  [ao]\n",
       "\tFe54           =\t8.68307e-06  [ao]\n",
       "\tFe56           =\t0.000136306  [ao]\n",
       "\tFe57           =\t3.14789e-06  [ao]\n",
       "\tFe58           =\t4.18926e-07  [ao]\n",
       "\tCr50           =\t3.30121e-06  [ao]\n",
       "\tCr52           =\t6.36606e-05  [ao]\n",
       "\tCr53           =\t7.2186e-06   [ao]\n",
       "\tCr54           =\t1.79686e-06  [ao]\n",
       "\tHf174          =\t3.54138e-09  [ao]\n",
       "\tHf176          =\t1.16423e-07  [ao]\n",
       "\tHf177          =\t4.11686e-07  [ao]\n",
       "\tHf178          =\t6.03806e-07  [ao]\n",
       "\tHf179          =\t3.0146e-07   [ao]\n",
       "\tHf180          =\t7.76449e-07  [ao]\n",
       ", Material\n",
       "\tID             =\t3\n",
       "\tName           =\twater\n",
       "\tTemperature    =\t600\n",
       "\tDensity        =\t0.661 [g/cm3]\n",
       "\tVolume         =\tNone [cm^3]\n",
       "\tDepletable     =\tFalse\n",
       "\tS(a,b) Tables  \n",
       "\tS(a,b)         =\t('c_H_in_H2O', 1.0)\n",
       "\tNuclides       \n",
       "\tH1             =\t0.0496224    [ao]\n",
       "\tO16            =\t0.0248112    [ao]\n",
       "\tB10            =\t1.0707e-05   [ao]\n",
       "\tB11            =\t4.30971e-05  [ao]\n",
       ", Material\n",
       "\tID             =\t4\n",
       "\tName           =\thelium\n",
       "\tTemperature    =\t600\n",
       "\tDensity        =\t0.000178 [g/cm3]\n",
       "\tVolume         =\tNone [cm^3]\n",
       "\tDepletable     =\tFalse\n",
       "\tS(a,b) Tables  \n",
       "\tNuclides       \n",
       "\tHe4            =\t1            [ao]\n",
       "])"
      ]
     },
     "execution_count": 42,
     "metadata": {},
     "output_type": "execute_result"
    }
   ],
   "source": [
    "model.geometry.get_all_materials().values()"
   ]
  },
  {
   "cell_type": "code",
   "execution_count": 43,
   "id": "323050b4",
   "metadata": {},
   "outputs": [
    {
     "data": {
      "text/plain": [
       "dict_values([Universe\n",
       "\tID             =\t6\n",
       "\tName           =\troot universe\n",
       "\tGeom           =\tCSG\n",
       "\tCells          =\t[12]\n",
       ", Universe\n",
       "\tID             =\t3\n",
       "\tName           =\tfu-pin_univ\n",
       "\tGeom           =\tCSG\n",
       "\tCells          =\t[7, 9, 10, 8]\n",
       ", Universe\n",
       "\tID             =\t1\n",
       "\tName           =\tgt_univ\n",
       "\tGeom           =\tCSG\n",
       "\tCells          =\t[1, 2, 3]\n",
       ", Universe\n",
       "\tID             =\t2\n",
       "\tName           =\tit_univ\n",
       "\tGeom           =\tCSG\n",
       "\tCells          =\t[4, 5, 6]\n",
       ", Universe\n",
       "\tID             =\t5\n",
       "\tName           =\touter\n",
       "\tGeom           =\tCSG\n",
       "\tCells          =\t[11]\n",
       "])"
      ]
     },
     "execution_count": 43,
     "metadata": {},
     "output_type": "execute_result"
    }
   ],
   "source": [
    "model.geometry.get_all_universes().values()"
   ]
  },
  {
   "cell_type": "code",
   "execution_count": 44,
   "id": "e73a3fec",
   "metadata": {},
   "outputs": [],
   "source": [
    "if one_eighth:\n",
    "    txt = 'one_eighth'\n",
    "else:\n",
    "    txt = 'one_quarter'"
   ]
  },
  {
   "cell_type": "code",
   "execution_count": 45,
   "id": "735800e9",
   "metadata": {},
   "outputs": [
    {
     "name": "stdout",
     "output_type": "stream",
     "text": [
      "./mgxs_casl_2b/mgxs_one_eighth_SHEM-361.h5\n"
     ]
    }
   ],
   "source": [
    "mgxs_lib.load_from_statepoint(sp)\n",
    "    \n",
    "h5_file_path = my_path + f'/mgxs_{txt}_{egroup_name}.h5'\n",
    "print(h5_file_path)\n",
    "\n",
    "# below, no need for xs_type = 'macro' as it is the default\n",
    "# mgxs_lib.create_mg_library(xsdata_names=all_cell_order).export_to_hdf5(h5_file_path)\n",
    "mgxs_lib.create_mg_library(xsdata_names=xs_names).export_to_hdf5(h5_file_path)"
   ]
  },
  {
   "cell_type": "markdown",
   "id": "e1e5dc17",
   "metadata": {},
   "source": [
    "## power outputs"
   ]
  },
  {
   "cell_type": "code",
   "execution_count": 46,
   "id": "4d51c7de",
   "metadata": {},
   "outputs": [
    {
     "name": "stdout",
     "output_type": "stream",
     "text": [
      "Requirement already satisfied: prettytable in /Users/jean.ragusa/anaconda3/lib/python3.11/site-packages (3.15.1)\r\n",
      "Requirement already satisfied: wcwidth in /Users/jean.ragusa/anaconda3/lib/python3.11/site-packages (from prettytable) (0.2.5)\r\n"
     ]
    }
   ],
   "source": [
    "!pip install prettytable"
   ]
  },
  {
   "cell_type": "code",
   "execution_count": 47,
   "id": "a2ecfb0b",
   "metadata": {},
   "outputs": [],
   "source": [
    "from prettytable import PrettyTable"
   ]
  },
  {
   "cell_type": "code",
   "execution_count": 48,
   "id": "9553607f",
   "metadata": {},
   "outputs": [
    {
     "data": {
      "text/plain": [
       "True"
      ]
     },
     "execution_count": 48,
     "metadata": {},
     "output_type": "execute_result"
    }
   ],
   "source": [
    "sp.tallies_present"
   ]
  },
  {
   "cell_type": "code",
   "execution_count": 49,
   "id": "983a1a91",
   "metadata": {},
   "outputs": [],
   "source": [
    "computed_power_tallies = sp.get_tally()"
   ]
  },
  {
   "cell_type": "code",
   "execution_count": 50,
   "id": "abacad2a",
   "metadata": {},
   "outputs": [
    {
     "name": "stdout",
     "output_type": "stream",
     "text": [
      "Tally\n",
      "\tID             =\t1\n",
      "\tName           =\tpower\n",
      "\tFilters        =\tMeshFilter\n",
      "\tNuclides       =\ttotal\n",
      "\tScores         =\t['fission', 'nu-fission', 'kappa-fission']\n",
      "\tEstimator      =\ttracklength\n",
      "\tMultiply dens. =\tTrue\n",
      "<class 'openmc.tallies.Tally'>\n"
     ]
    }
   ],
   "source": [
    "print(computed_power_tallies)\n",
    "print(type(computed_power_tallies))"
   ]
  },
  {
   "cell_type": "code",
   "execution_count": 51,
   "id": "a45e0b20",
   "metadata": {},
   "outputs": [
    {
     "data": {
      "text/plain": [
       "['fission', 'nu-fission', 'kappa-fission']"
      ]
     },
     "execution_count": 51,
     "metadata": {},
     "output_type": "execute_result"
    }
   ],
   "source": [
    "computed_power_tallies.scores"
   ]
  },
  {
   "cell_type": "code",
   "execution_count": 52,
   "id": "e70ecb45",
   "metadata": {},
   "outputs": [
    {
     "name": "stdout",
     "output_type": "stream",
     "text": [
      "(289, 1, 3)\n"
     ]
    }
   ],
   "source": [
    "# computed_power_tallies.get_score_index(score='nu-fission')\n",
    "power_tally_values = computed_power_tallies.get_values()\n",
    "print(power_tally_values.shape)\n",
    "\n",
    "pin_power_file_path = my_path + f'/pinpow_{txt}_{egroup_name}.npy'\n",
    "np.save(pin_power_file_path, power_tally_values)"
   ]
  },
  {
   "cell_type": "code",
   "execution_count": 53,
   "id": "caa21df8",
   "metadata": {},
   "outputs": [
    {
     "name": "stdout",
     "output_type": "stream",
     "text": [
      "score =  fission\n",
      "+---+-----------+-----------+-----------+-----------+-----------+-----------+-----------+-----------+\n",
      "| 1 |     2     |     3     |     4     |     5     |     6     |     7     |     8     |     9     |\n",
      "+---+-----------+-----------+-----------+-----------+-----------+-----------+-----------+-----------+\n",
      "| 0 |     0     |     0     |     0     |     0     |     0     |     0     |     0     | 0.0142434 |\n",
      "| 0 |     0     |     0     |     0     |     0     |     0     |     0     | 0.0137005 | 0.0138442 |\n",
      "| 0 |     0     |     0     |     0     |     0     |     0     | 0.0143569 | 0.0140021 |  0.013587 |\n",
      "| 0 |     0     |     0     |     0     |     0     |     0     | 0.0148143 | 0.0139931 | 0.0136116 |\n",
      "| 0 |     0     |     0     |     0     | 0.0149227 | 0.0152652 | 0.0151069 | 0.0144419 | 0.0138904 |\n",
      "| 0 |     0     |     0     |     0     |  0.015361 |  0.015065 |     0     | 0.0146759 | 0.0143411 |\n",
      "| 0 |     0     |  0.014525 | 0.0154826 | 0.0148505 | 0.0148357 | 0.0148169 | 0.0140522 | 0.0141949 |\n",
      "| 0 | 0.0148964 | 0.0150936 |  0.015258 | 0.0148899 | 0.0149699 | 0.0152672 | 0.0145482 | 0.0143088 |\n",
      "| 0 | 0.0153737 | 0.0155106 |     0     | 0.0148658 | 0.0154317 |     0     | 0.0148573 | 0.0141718 |\n",
      "+---+-----------+-----------+-----------+-----------+-----------+-----------+-----------+-----------+\n",
      "score =  nu-fission\n",
      "+---+-----------+-----------+-----------+-----------+-----------+-----------+-----------+-----------+\n",
      "| 1 |     2     |     3     |     4     |     5     |     6     |     7     |     8     |     9     |\n",
      "+---+-----------+-----------+-----------+-----------+-----------+-----------+-----------+-----------+\n",
      "| 0 |     0     |     0     |     0     |     0     |     0     |     0     |     0     | 0.0349349 |\n",
      "| 0 |     0     |     0     |     0     |     0     |     0     |     0     | 0.0336251 | 0.0339765 |\n",
      "| 0 |     0     |     0     |     0     |     0     |     0     | 0.0352243 | 0.0343585 | 0.0333563 |\n",
      "| 0 |     0     |     0     |     0     |     0     |     0     | 0.0363275 | 0.0343298 | 0.0334015 |\n",
      "| 0 |     0     |     0     |     0     | 0.0365795 |  0.037433 | 0.0370367 | 0.0354206 | 0.0340871 |\n",
      "| 0 |     0     |     0     |     0     | 0.0376563 | 0.0369416 |     0     | 0.0359925 | 0.0351817 |\n",
      "| 0 |     0     | 0.0356286 | 0.0379607 | 0.0364212 | 0.0363842 | 0.0363393 | 0.0344739 |  0.034826 |\n",
      "| 0 | 0.0365219 | 0.0370185 | 0.0374147 | 0.0365223 |  0.036716 | 0.0374353 | 0.0356831 | 0.0350966 |\n",
      "| 0 | 0.0376855 | 0.0380265 |     0     | 0.0364523 | 0.0378259 |     0     | 0.0364328 |  0.034759 |\n",
      "+---+-----------+-----------+-----------+-----------+-----------+-----------+-----------+-----------+\n",
      "score =  kappa-fission\n",
      "+---+-------------+-------------+-------------+-------------+-------------+-------------+-------------+-------------+\n",
      "| 1 |      2      |      3      |      4      |      5      |      6      |      7      |      8      |      9      |\n",
      "+---+-------------+-------------+-------------+-------------+-------------+-------------+-------------+-------------+\n",
      "| 0 |      0      |      0      |      0      |      0      |      0      |      0      |      0      |  2.7587e+06 |\n",
      "| 0 |      0      |      0      |      0      |      0      |      0      |      0      | 2.65376e+06 | 2.68158e+06 |\n",
      "| 0 |      0      |      0      |      0      |      0      |      0      | 2.78076e+06 |  2.7121e+06 | 2.63184e+06 |\n",
      "| 0 |      0      |      0      |      0      |      0      |      0      | 2.86911e+06 | 2.71031e+06 | 2.63655e+06 |\n",
      "| 0 |      0      |      0      |      0      | 2.89008e+06 | 2.95642e+06 | 2.92574e+06 | 2.79711e+06 | 2.69053e+06 |\n",
      "| 0 |      0      |      0      |      0      | 2.97491e+06 | 2.91768e+06 |      0      | 2.84237e+06 | 2.77767e+06 |\n",
      "| 0 |      0      | 2.81326e+06 | 2.99845e+06 | 2.87624e+06 | 2.87336e+06 |  2.8697e+06 | 2.72175e+06 | 2.74941e+06 |\n",
      "| 0 | 2.88497e+06 | 2.92323e+06 | 2.95501e+06 | 2.88388e+06 | 2.89931e+06 | 2.95678e+06 | 2.81776e+06 | 2.77139e+06 |\n",
      "| 0 | 2.97739e+06 | 3.00387e+06 |      0      | 2.87913e+06 | 2.98853e+06 |      0      | 2.87749e+06 | 2.74485e+06 |\n",
      "+---+-------------+-------------+-------------+-------------+-------------+-------------+-------------+-------------+\n"
     ]
    }
   ],
   "source": [
    "for score_id in range(3):\n",
    "    # get name of the score\n",
    "    score = computed_power_tallies.scores[score_id]\n",
    "    print('score = ',score)\n",
    "    # extract + shape the data\n",
    "    vals = power_tally_values[:,0,score_id].reshape(17,17)\n",
    "    vals = vals[8:,8:]\n",
    "    \n",
    "    dd = np.copy(vals)\n",
    "\n",
    "    # multiply axis of symeetry by 2 for power display\n",
    "    dd[0,:] *= 2\n",
    "    dd[np.diag_indices_from(dd)] *= 2\n",
    "\n",
    "    dd = np.flip(dd,axis=0)\n",
    "\n",
    "    table = PrettyTable()\n",
    "\n",
    "    n_list = [str(n) for n in range(1, 10)]\n",
    "    table.field_names = n_list\n",
    "\n",
    "    # Convert ndarray to list of lists\n",
    "    data_list = dd.tolist()\n",
    "\n",
    "    for row in data_list:\n",
    "        # Format each value to 2 decimal places\n",
    "        formatted_row = [f\"{x:.6g}\" for x in row]\n",
    "        table.add_row(formatted_row)\n",
    "\n",
    "    print(table)"
   ]
  },
  {
   "cell_type": "code",
   "execution_count": 54,
   "id": "93863bf4",
   "metadata": {},
   "outputs": [
    {
     "data": {
      "image/png": "[encoded data removed]",
      "text/plain": [
       "<Figure size 640x480 with 2 Axes>"
      ]
     },
     "metadata": {},
     "output_type": "display_data"
    }
   ],
   "source": [
    "plt.figure()\n",
    "plt.imshow(np.flip(vals,axis=0), cmap='viridis')  # You can change the colormap if desired\n",
    "plt.title('2D Array Plot')\n",
    "plt.colorbar()  # Adds a colorbar to show the scale\n",
    "plt.show()"
   ]
  },
  {
   "cell_type": "code",
   "execution_count": null,
   "id": "2aee3f26",
   "metadata": {},
   "outputs": [],
   "source": []
  }
 ],
 "metadata": {
  "kernelspec": {
   "display_name": "Python 3 (ipykernel)",
   "language": "python",
   "name": "python3"
  },
  "language_info": {
   "codemirror_mode": {
    "name": "ipython",
    "version": 3
   },
   "file_extension": ".py",
   "mimetype": "text/x-python",
   "name": "python",
   "nbconvert_exporter": "python",
   "pygments_lexer": "ipython3",
   "version": "3.11.4"
  }
 },
 "nbformat": 4,
 "nbformat_minor": 5
}
