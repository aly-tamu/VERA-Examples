{
 "cells": [
  {
   "cell_type": "markdown",
   "metadata": {},
   "source": [
    "# Reading a 2D mesh file and extruding it\n",
    "\n",
    "To run the code, simply type: `jupyter nbconvert --to python --execute <basename>.ipynb`.\n",
    "\n",
    "To convert it to a python file (named `<basename>.py`), simply type: `jupyter nbconvert --to python <basename>.ipynb`\n",
    "\n",
    "To run the python file from the terminal, using N processes, simply type: `mpiexec -n <N> python <basename>.py`"
   ]
  },
  {
   "cell_type": "code",
   "execution_count": 1,
   "metadata": {
    "vscode": {
     "languageId": "plaintext"
    }
   },
   "outputs": [],
   "source": [
    "import os\n",
    "import sys\n",
    "\n",
    "sys.path.append(\"../../..\")\n",
    "\n",
    "from pyopensn.mesh import FromFileMeshGenerator, ExtruderMeshGenerator, PETScGraphPartitioner\n",
    "from pyopensn.context import UseColor, Finalize\n",
    "\n",
    "UseColor(False)"
   ]
  },
  {
   "cell_type": "markdown",
   "metadata": {},
   "source": [
    "## Mesh and  Partition\n",
    "We start by reading a 2D obj file that we will extrude. (See a previous tutorial for reading 2D obj file).\n",
    "\n",
    "We insert 2 layers between z=0 and z=1.1, followed by 3 layers, between z=1.1 and z=2.1.\n",
    "\n",
    "We partition the mesh using Parmetis (and 6 processors).\n",
    "\n",
    "Finally, we export the mesh to a VTU file."
   ]
  },
  {
   "cell_type": "code",
   "execution_count": 2,
   "metadata": {
    "vscode": {
     "languageId": "plaintext"
    }
   },
   "outputs": [
    {
     "name": "stdout",
     "output_type": "stream",
     "text": [
      "OpenSn version 0.0.1\n",
      "2025-04-29 15:05:46 Running OpenSn with 1 processes.\n",
      "\n",
      "[0]  FromFileMeshGenerator: Generating UnpartitionedMesh\n",
      "[0]  Making Unpartitioned mesh from wavefront file ./2A/lattice_2A.obj\n",
      "[0]  Max material id: 10\n",
      "[0]  Done checking cell-center-to-face orientations\n",
      "[0]  00:00:00.8 Establishing cell connectivity.\n",
      "[0]  00:00:00.8 Vertex cell subscriptions complete.\n",
      "[0]  00:00:00.8 Surpassing cell 3888 of 38880 (10%)\n",
      "[0]  00:00:00.8 Surpassing cell 7776 of 38880 (20%)\n",
      "[0]  00:00:00.8 Surpassing cell 11665 of 38880 (30%)\n",
      "[0]  00:00:00.8 Surpassing cell 15552 of 38880 (40%)\n",
      "[0]  00:00:00.8 Surpassing cell 19440 of 38880 (50%)\n",
      "[0]  00:00:00.8 Surpassing cell 23329 of 38880 (60%)\n",
      "[0]  00:00:00.8 Surpassing cell 27217 of 38880 (70%)\n",
      "[0]  00:00:00.8 Surpassing cell 31104 of 38880 (80%)\n",
      "[0]  00:00:00.8 Surpassing cell 34992 of 38880 (90%)\n",
      "[0]  00:00:00.8 Surpassing cell 38880 of 38880 (100%)\n",
      "[0]  00:00:00.8 Establishing cell boundary connectivity.\n",
      "[0]  00:00:00.8 Done establishing cell connectivity.\n",
      "[0]  Done checking cell-center-to-face orientations\n",
      "[0]  00:00:01.0 Establishing cell connectivity.\n",
      "[0]  00:00:01.1 Vertex cell subscriptions complete.\n",
      "[0]  00:00:01.2 Surpassing cell 19440 of 194400 (10%)\n",
      "[0]  00:00:01.2 Surpassing cell 38880 of 194400 (20%)\n",
      "[0]  00:00:01.2 Surpassing cell 58321 of 194400 (30%)\n",
      "[0]  00:00:01.2 Surpassing cell 77760 of 194400 (40%)\n",
      "[0]  00:00:01.2 Surpassing cell 97200 of 194400 (50%)\n",
      "[0]  00:00:01.2 Surpassing cell 116641 of 194400 (60%)\n",
      "[0]  00:00:01.2 Surpassing cell 136081 of 194400 (70%)\n",
      "[0]  00:00:01.2 Surpassing cell 155520 of 194400 (80%)\n",
      "[0]  00:00:01.2 Surpassing cell 174960 of 194400 (90%)\n",
      "[0]  00:00:01.2 Surpassing cell 194400 of 194400 (100%)\n",
      "[0]  00:00:01.2 Establishing cell boundary connectivity.\n",
      "[0]  00:00:01.3 Done establishing cell connectivity.\n",
      "[0]  Number of cells per partition (max,min,avg) = 194400,194400,194400\n",
      "[0]  \n",
      "[0]  Mesh statistics:\n",
      "[0]    Global cell count             : 194400\n",
      "[0]    Local cell count (avg,max,min): 194400,194400,194400\n",
      "[0]    Ghost-to-local ratio (avg)    : 0\n",
      "[0]  \n",
      "[0]  Exporting mesh to VTK files with base Extruded_mesh_only\n",
      "[0]  Done exporting mesh to VTK.\n"
     ]
    }
   ],
   "source": [
    "meshgen = ExtruderMeshGenerator(\n",
    "    inputs=[\n",
    "        FromFileMeshGenerator(\n",
    "            filename=\"./2A/lattice_2A.obj\",\n",
    "        )\n",
    "    ],\n",
    "    layers=[{\"z\": 1.1, \"n\": 2},\n",
    "            {\"z\": 2.1, \"n\": 3},\n",
    "            ],  # layers\n",
    "    partitioner=PETScGraphPartitioner(),\n",
    ")\n",
    "grid = meshgen.Execute()\n",
    "\n",
    "# Export\n",
    "grid.ExportToPVTU(\"Extruded_mesh_only\")"
   ]
  },
  {
   "cell_type": "markdown",
   "metadata": {},
   "source": [
    "## Visualization\n",
    "\n",
    "The resulting mesh and material layout is shown below:\n",
    "\n",
    "![Mesh_Material](images/extruded_mesh_only.pvtu)\n",
    "\n",
    "The resulting mesh and partition is shown below:\n",
    "\n",
    "![Mesh_Partition](images/extruded_mesh_partition.png)"
   ]
  },
  {
   "cell_type": "markdown",
   "metadata": {},
   "source": [
    "## Finalize (for Jupyter Notebook only)\n",
    "\n",
    "In Python script mode, PyOpenSn automatically handles environment termination. However, this\n",
    "automatic finalization does not occur when running in a Jupyter notebook, so explicit finalization\n",
    "of the environment at the end of the notebook is required. Do not call the finalization in Python\n",
    "script mode, or in console mode.\n",
    "\n",
    "Note that PyOpenSn's finalization must be called before MPI's finalization.\n"
   ]
  },
  {
   "cell_type": "code",
   "execution_count": 3,
   "metadata": {
    "vscode": {
     "languageId": "plaintext"
    }
   },
   "outputs": [
    {
     "name": "stdout",
     "output_type": "stream",
     "text": [
      "Error in callback <function finalize_env at 0x7f95e046f2e0> (for post_execute), with arguments args (),kwargs {}:\n"
     ]
    },
    {
     "ename": "NameError",
     "evalue": "name 'MPI' is not defined",
     "output_type": "error",
     "traceback": [
      "\u001b[31m---------------------------------------------------------------------------\u001b[39m",
      "\u001b[31mNameError\u001b[39m                                 Traceback (most recent call last)",
      "\u001b[36mCell\u001b[39m\u001b[36m \u001b[39m\u001b[32mIn[3]\u001b[39m\u001b[32m, line 5\u001b[39m, in \u001b[36mfinalize_env\u001b[39m\u001b[34m()\u001b[39m\n\u001b[32m      3\u001b[39m \u001b[38;5;28;01mdef\u001b[39;00m\u001b[38;5;250m \u001b[39m\u001b[34mfinalize_env\u001b[39m():\n\u001b[32m      4\u001b[39m     Finalize()\n\u001b[32m----> \u001b[39m\u001b[32m5\u001b[39m     \u001b[43mMPI\u001b[49m.Finalize()\n",
      "\u001b[31mNameError\u001b[39m: name 'MPI' is not defined"
     ]
    }
   ],
   "source": [
    "from IPython import get_ipython\n",
    "\n",
    "def finalize_env():\n",
    "    Finalize()\n",
    "    MPI.Finalize()\n",
    "\n",
    "ipython_instance = get_ipython()\n",
    "if ipython_instance is not None:\n",
    "    ipython_instance.events.register(\"post_execute\", finalize_env)"
   ]
  },
  {
   "cell_type": "code",
   "execution_count": null,
   "metadata": {},
   "outputs": [],
   "source": []
  }
 ],
 "metadata": {
  "kernelspec": {
   "display_name": "Python 3 (ipykernel)",
   "language": "python",
   "name": "python3"
  },
  "language_info": {
   "codemirror_mode": {
    "name": "ipython",
    "version": 3
   },
   "file_extension": ".py",
   "mimetype": "text/x-python",
   "name": "python",
   "nbconvert_exporter": "python",
   "pygments_lexer": "ipython3",
   "version": "3.12.3"
  }
 },
 "nbformat": 4,
 "nbformat_minor": 4
}
